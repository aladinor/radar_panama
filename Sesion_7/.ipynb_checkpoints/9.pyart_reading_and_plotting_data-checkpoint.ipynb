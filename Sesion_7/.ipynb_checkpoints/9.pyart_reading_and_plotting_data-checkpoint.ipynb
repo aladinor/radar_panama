{
 "cells": [
  {
   "cell_type": "markdown",
   "metadata": {},
   "source": [
    "# Pyart : Lectura de un archivo de radar"
   ]
  },
  {
   "cell_type": "markdown",
   "metadata": {},
   "source": [
    "Comencemos con una introducción sobre lo que es Py-ART, luego comenzaremos programar."
   ]
  },
  {
   "cell_type": "markdown",
   "metadata": {},
   "source": [
    "El kit de herramientas de radar Python ARM o Py-ART:\n",
    "\n",
    "  * Py-ART es un módulo de Python para trazar, corregir y analizar datos de radar meteorológico.\n",
    "  * El desarrollo comenzó a abordar las necesidades de ARM con la adquisición de una serie de\n",
    "    nueva nube de escaneo y radar de precipitación como parte de la Ley de Recuperación Estadounidense.\n",
    "  * Desde entonces, el proyecto se ha expandido para trabajar con una variedad de radares meteorológicos y un usuario más amplio\n",
    "    base incluyendo investigadores de radar y modeladores climáticos.\n",
    "  * El software ha sido lanzado en GitHub como software de código abierto bajo una licencia BSD.\n",
    "    Se ejecuta en Linux, OS X. También se ejecuta en Windows con una funcionalidad más limitada.\n",
    "   \n",
    "Las contribuciones de otros siempre son bienvenidas."
   ]
  },
  {
   "cell_type": "markdown",
   "metadata": {},
   "source": [
    "¿Qué puede hacer Py-ART?\n",
    "Py-ART se puede utilizar para una variedad de tareas, desde el trazado básico hasta herramientas de procesamiento más complejas. Los usos específicos para Py-ART incluyen:\n",
    "\n",
    "  * Lectura de datos de radar en una variedad de formatos de archivo.\n",
    "  * Creación de parcelas y visualización de datos de radar.\n",
    "  * Corrección de momentos de radar mientras se encuentra en coordenadas de antena, tales como:\n",
    "     * Doppler desplegado / des-aliasing.\n",
    "     * Corrección de atenuación.\n",
    "     * Procesamiento de fase utilizando un método de programación lineal.\n",
    "  * Asignación de datos de uno o varios radares en una cuadrícula cartesiana.\n",
    "  * Realización de recuperaciones.\n",
    "  * Escritura de datos radiales y cartesianos en archivos NetCDF."
   ]
  },
  {
   "cell_type": "markdown",
   "metadata": {},
   "source": [
    "Enlaces esenciales de Py-ART:\n",
    "  * Página de destino, [arm-doe.github.io/pyart/font>(http://arm-doe.github.io/pyart/)\n",
    "  * Documentación, [arm-doe.github.io/pyart-docs-travis/font>(http://arm-doe.github.io/pyart-docs-travis/)\n",
    "  * Ejemplos, [arm-doe.github.io/pyart/dev/auto_examples/index.htmlfont>(http://arm-doe.github.io/pyart/dev/auto_examples/index.html)\n",
    "  * Código fuente, [github.com/ARM-DOE/pyartfont>(https://github.com/ARM-DOE/pyart)\n",
    "  * Lista de correo, [groups.google.com/group/pyart-users/font>(http://groups.google.com/group/pyart-users/)\n",
    "  * Rastreador de problemas, [github.com/ARM-DOE/pyart/issuesfont>(https://github.com/ARM-DOE/pyart/issues)"
   ]
  },
  {
   "cell_type": "markdown",
   "metadata": {},
   "source": [
    "Now that we know what Py-ART is, let us began coding."
   ]
  },
  {
   "cell_type": "markdown",
   "metadata": {},
   "source": [
    "First we want to import any modules that will be needed."
   ]
  },
  {
   "cell_type": "code",
   "execution_count": 2,
   "metadata": {},
   "outputs": [
    {
     "name": "stdout",
     "output_type": "stream",
     "text": [
      "Collecting package metadata (current_repodata.json): ...working... done\n",
      "Solving environment: ...working... done\n",
      "\n",
      "## Package Plan ##\n",
      "\n",
      "  environment location: C:\\Users\\ladin\\anaconda3\\envs\\radar_panama\n",
      "\n",
      "  added / updated specs:\n",
      "    - cartopy\n",
      "\n",
      "\n",
      "The following packages will be downloaded:\n",
      "\n",
      "    package                    |            build\n",
      "    ---------------------------|-----------------\n",
      "    cartopy-0.20.1             |   py38h436f59c_5         1.6 MB  conda-forge\n",
      "    geos-3.10.1                |       h39d44d4_1         1.4 MB  conda-forge\n",
      "    proj-8.2.0                 |       h1cfcee9_0         2.7 MB  conda-forge\n",
      "    pyproj-3.3.0               |   py38h12f9802_0         443 KB  conda-forge\n",
      "    shapely-1.8.0              |   py38hd784ac2_4         423 KB  conda-forge\n",
      "    ------------------------------------------------------------\n",
      "                                           Total:         6.6 MB\n",
      "\n",
      "The following NEW packages will be INSTALLED:\n",
      "\n",
      "  cartopy            conda-forge/win-64::cartopy-0.20.1-py38h436f59c_5\n",
      "  geos               conda-forge/win-64::geos-3.10.1-h39d44d4_1\n",
      "  proj               conda-forge/win-64::proj-8.2.0-h1cfcee9_0\n",
      "  pyproj             conda-forge/win-64::pyproj-3.3.0-py38h12f9802_0\n",
      "  pyshp              conda-forge/noarch::pyshp-2.1.3-pyh44b312d_0\n",
      "  shapely            conda-forge/win-64::shapely-1.8.0-py38hd784ac2_4\n",
      "\n",
      "The following packages will be UPDATED:\n",
      "\n",
      "  ca-certificates    anaconda::ca-certificates-2020.10.14-0 --> conda-forge::ca-certificates-2021.10.8-h5b45459_0\n",
      "  certifi                anaconda::certifi-2020.6.20-py38_0 --> conda-forge::certifi-2021.10.8-py38haa244fe_1\n",
      "\n",
      "\n",
      "\n",
      "Downloading and Extracting Packages\n",
      "\n",
      "shapely-1.8.0        | 423 KB    |            |   0% \n",
      "shapely-1.8.0        | 423 KB    | 3          |   4% \n",
      "shapely-1.8.0        | 423 KB    | ###        |  30% \n",
      "shapely-1.8.0        | 423 KB    | ######     |  61% \n",
      "shapely-1.8.0        | 423 KB    | ########## | 100% \n",
      "shapely-1.8.0        | 423 KB    | ########## | 100% \n",
      "\n",
      "geos-3.10.1          | 1.4 MB    |            |   0% \n",
      "geos-3.10.1          | 1.4 MB    | 1          |   1% \n",
      "geos-3.10.1          | 1.4 MB    | 3          |   3% \n",
      "geos-3.10.1          | 1.4 MB    | #4         |  14% \n",
      "geos-3.10.1          | 1.4 MB    | ####6      |  47% \n",
      "geos-3.10.1          | 1.4 MB    | ######6    |  67% \n",
      "geos-3.10.1          | 1.4 MB    | #######7   |  78% \n",
      "geos-3.10.1          | 1.4 MB    | ########## | 100% \n",
      "geos-3.10.1          | 1.4 MB    | ########## | 100% \n",
      "\n",
      "cartopy-0.20.1       | 1.6 MB    |            |   0% \n",
      "cartopy-0.20.1       | 1.6 MB    |            |   1% \n",
      "cartopy-0.20.1       | 1.6 MB    | #          |  10% \n",
      "cartopy-0.20.1       | 1.6 MB    | #8         |  18% \n",
      "cartopy-0.20.1       | 1.6 MB    | #####3     |  53% \n",
      "cartopy-0.20.1       | 1.6 MB    | #########  |  90% \n",
      "cartopy-0.20.1       | 1.6 MB    | ########## | 100% \n",
      "\n",
      "proj-8.2.0           | 2.7 MB    |            |   0% \n",
      "proj-8.2.0           | 2.7 MB    |            |   1% \n",
      "proj-8.2.0           | 2.7 MB    | 5          |   5% \n",
      "proj-8.2.0           | 2.7 MB    | 7          |   7% \n",
      "proj-8.2.0           | 2.7 MB    | #5         |  16% \n",
      "proj-8.2.0           | 2.7 MB    | ###2       |  32% \n",
      "proj-8.2.0           | 2.7 MB    | ####6      |  47% \n",
      "proj-8.2.0           | 2.7 MB    | #####8     |  58% \n",
      "proj-8.2.0           | 2.7 MB    | #######9   |  80% \n",
      "proj-8.2.0           | 2.7 MB    | #########  |  90% \n",
      "proj-8.2.0           | 2.7 MB    | ########## | 100% \n",
      "proj-8.2.0           | 2.7 MB    | ########## | 100% \n",
      "\n",
      "pyproj-3.3.0         | 443 KB    |            |   0% \n",
      "pyproj-3.3.0         | 443 KB    | 3          |   4% \n",
      "pyproj-3.3.0         | 443 KB    | ###2       |  33% \n",
      "pyproj-3.3.0         | 443 KB    | ####6      |  47% \n",
      "pyproj-3.3.0         | 443 KB    | #####7     |  58% \n",
      "pyproj-3.3.0         | 443 KB    | ########## | 100% \n",
      "pyproj-3.3.0         | 443 KB    | ########## | 100% \n",
      "Preparing transaction: ...working... done\n",
      "Verifying transaction: ...working... done\n",
      "Executing transaction: ...working... done\n"
     ]
    }
   ],
   "source": [
    "import sys\n",
    "!conda install --yes --prefix {sys.prefix} -c conda-forge cartopy"
   ]
  },
  {
   "cell_type": "code",
   "execution_count": 3,
   "metadata": {},
   "outputs": [
    {
     "name": "stdout",
     "output_type": "stream",
     "text": [
      "\n",
      "## You are using the Python ARM Radar Toolkit (Py-ART), an open source\n",
      "## library for working with weather radar data. Py-ART is partly\n",
      "## supported by the U.S. Department of Energy as part of the Atmospheric\n",
      "## Radiation Measurement (ARM) Climate Research Facility, an Office of\n",
      "## Science user facility.\n",
      "##\n",
      "## If you use this software to prepare a publication, please cite:\n",
      "##\n",
      "##     JJ Helmus and SM Collis, JORS 2016, doi: 10.5334/jors.119\n",
      "\n"
     ]
    }
   ],
   "source": [
    "import cartopy.crs as ccrs\n",
    "import matplotlib.pyplot as plt\n",
    "import numpy as np\n",
    "import pyart\n",
    "import os"
   ]
  },
  {
   "cell_type": "markdown",
   "metadata": {},
   "source": [
    "Cuando leemos en un archivo de radar, usamos el módulo pyart.io.read.\n",
    "pyart.io.read puede leer una variedad de formatos de radar diferentes, como Cf / Radial, LASSEN y más.\n",
    "La documentación sobre qué formatos puede leer Py-ART se puede encontrar aquí:\n",
    "\n",
    "http://arm-doe.github.io/pyart-docs-travis/user_reference/io.html\n",
    "\n",
    "Para la mayoría de los formatos de archivo enumerados en la página, usar pyart.io.read debería ser suficiente ya que Py-ART tiene la capacidad de detectar automáticamente el formato de archivo."
   ]
  },
  {
   "cell_type": "markdown",
   "metadata": {},
   "source": [
    "To read a radar file:"
   ]
  },
  {
   "cell_type": "code",
   "execution_count": 6,
   "metadata": {},
   "outputs": [
    {
     "name": "stderr",
     "output_type": "stream",
     "text": [
      "C:\\Users\\ladin\\anaconda3\\envs\\radar_panama\\lib\\site-packages\\pyart\\io\\sigmet.py:131: RuntimeWarning: invalid value encountered in sqrt\n",
      "  sigmet_data, sigmet_metadata = sigmetfile.read_data(full_xhdr=full_xhdr)\n"
     ]
    }
   ],
   "source": [
    "radar = pyart.io.read('data/TAB191023201003.RAWD9FW')"
   ]
  },
  {
   "cell_type": "markdown",
   "metadata": {},
   "source": [
    "Al leer un archivo de radar, hay algunas opciones para agregar, como excluir los campos de radar. Excluir campos se vuelve útil cuando está cargando muchos archivos de radar a la vez y desea conservar memoria y ahorrar tiempo."
   ]
  },
  {
   "cell_type": "markdown",
   "metadata": {},
   "source": [
    "Para ver la lista completa de parámetros, en un Jupyter Notebook, simplemente agregue un signo de interrogación después de la función."
   ]
  },
  {
   "cell_type": "code",
   "execution_count": 7,
   "metadata": {},
   "outputs": [],
   "source": [
    "pyart.io.read?"
   ]
  },
  {
   "cell_type": "markdown",
   "metadata": {},
   "source": [
    "En el objeto radar hay campos. Aquí es donde se almacenan datos como la reflectividad y la velocidad.\n",
    "Para ver qué campos están presentes, podemos agregar las adiciones de campos y claves a la variable donde\n",
    "Se almacena el objeto de radar."
   ]
  },
  {
   "cell_type": "code",
   "execution_count": 8,
   "metadata": {},
   "outputs": [
    {
     "data": {
      "text/plain": [
       "dict_keys(['total_power', 'reflectivity', 'velocity', 'spectrum_width', 'differential_reflectivity', 'specific_differential_phase', 'differential_phase', 'cross_correlation_ratio', 'radar_echo_classification'])"
      ]
     },
     "execution_count": 8,
     "metadata": {},
     "output_type": "execute_result"
    }
   ],
   "source": [
    "radar.fields.keys()"
   ]
  },
  {
   "cell_type": "markdown",
   "metadata": {},
   "source": [
    "Los campos se almacenan en un diccionario, cada uno con coordenadas, unidades y más.\n",
    "Se puede acceder a todos simplemente agregando los campos adicionales a la variable del objeto de radar.\n",
    "Para un campo individual, agregamos una cadena entre paréntesis después de la adición de campos para ver\n",
    "el contenido de ese campo"
   ]
  },
  {
   "cell_type": "code",
   "execution_count": 9,
   "metadata": {
    "scrolled": true
   },
   "outputs": [
    {
     "name": "stdout",
     "output_type": "stream",
     "text": [
      "{'total_power': {'units': 'dBZ', 'standard_name': 'equivalent_reflectivity_factor', 'long_name': 'Total power', 'coordinates': 'elevation azimuth range', 'data': masked_array(\n",
      "  data=[[-23.5, -31.5, -29.0, ..., --, --, --],\n",
      "        [-25.0, -31.5, -24.5, ..., --, --, --],\n",
      "        [-24.0, -31.5, -27.5, ..., --, --, --],\n",
      "        ...,\n",
      "        [-24.0, -25.5, -31.5, ..., --, --, --],\n",
      "        [-23.0, -22.0, -20.5, ..., --, --, --],\n",
      "        [-23.5, -22.0, -31.5, ..., --, --, --]],\n",
      "  mask=[[False, False, False, ...,  True,  True,  True],\n",
      "        [False, False, False, ...,  True,  True,  True],\n",
      "        [False, False, False, ...,  True,  True,  True],\n",
      "        ...,\n",
      "        [False, False, False, ...,  True,  True,  True],\n",
      "        [False, False, False, ...,  True,  True,  True],\n",
      "        [False, False, False, ...,  True,  True,  True]],\n",
      "  fill_value=1e+20,\n",
      "  dtype=float32), '_FillValue': -9999.0}, 'reflectivity': {'units': 'dBZ', 'standard_name': 'equivalent_reflectivity_factor', 'long_name': 'Reflectivity', 'coordinates': 'elevation azimuth range', 'data': masked_array(\n",
      "  data=[[--, --, --, ..., --, --, --],\n",
      "        [--, --, --, ..., --, --, --],\n",
      "        [--, --, --, ..., --, --, --],\n",
      "        ...,\n",
      "        [--, --, --, ..., --, --, --],\n",
      "        [--, --, --, ..., --, --, --],\n",
      "        [--, --, --, ..., --, --, --]],\n",
      "  mask=[[ True,  True,  True, ...,  True,  True,  True],\n",
      "        [ True,  True,  True, ...,  True,  True,  True],\n",
      "        [ True,  True,  True, ...,  True,  True,  True],\n",
      "        ...,\n",
      "        [ True,  True,  True, ...,  True,  True,  True],\n",
      "        [ True,  True,  True, ...,  True,  True,  True],\n",
      "        [ True,  True,  True, ...,  True,  True,  True]],\n",
      "  fill_value=1e+20,\n",
      "  dtype=float32), '_FillValue': -9999.0}, 'velocity': {'units': 'meters_per_second', 'standard_name': 'radial_velocity_of_scatterers_away_from_instrument', 'long_name': 'Mean dopper velocity', 'coordinates': 'elevation azimuth range', 'data': masked_array(\n",
      "  data=[[--, --, --, ..., --, --, --],\n",
      "        [--, --, --, ..., --, --, --],\n",
      "        [--, --, --, ..., --, --, --],\n",
      "        ...,\n",
      "        [--, --, --, ..., --, --, --],\n",
      "        [--, --, --, ..., --, --, --],\n",
      "        [--, --, --, ..., --, --, --]],\n",
      "  mask=[[ True,  True,  True, ...,  True,  True,  True],\n",
      "        [ True,  True,  True, ...,  True,  True,  True],\n",
      "        [ True,  True,  True, ...,  True,  True,  True],\n",
      "        ...,\n",
      "        [ True,  True,  True, ...,  True,  True,  True],\n",
      "        [ True,  True,  True, ...,  True,  True,  True],\n",
      "        [ True,  True,  True, ...,  True,  True,  True]],\n",
      "  fill_value=1e+20,\n",
      "  dtype=float32), '_FillValue': -9999.0}, 'spectrum_width': {'units': 'meters_per_second', 'standard_name': 'doppler_spectrum_width', 'long_name': 'Doppler spectrum width', 'coordinates': 'elevation azimuth range', 'data': masked_array(\n",
      "  data=[[--, --, --, ..., --, --, --],\n",
      "        [--, --, --, ..., --, --, --],\n",
      "        [--, --, --, ..., --, --, --],\n",
      "        ...,\n",
      "        [--, --, --, ..., --, --, --],\n",
      "        [--, --, --, ..., --, --, --],\n",
      "        [--, --, --, ..., --, --, --]],\n",
      "  mask=[[ True,  True,  True, ...,  True,  True,  True],\n",
      "        [ True,  True,  True, ...,  True,  True,  True],\n",
      "        [ True,  True,  True, ...,  True,  True,  True],\n",
      "        ...,\n",
      "        [ True,  True,  True, ...,  True,  True,  True],\n",
      "        [ True,  True,  True, ...,  True,  True,  True],\n",
      "        [ True,  True,  True, ...,  True,  True,  True]],\n",
      "  fill_value=1e+20,\n",
      "  dtype=float32), '_FillValue': -9999.0}, 'differential_reflectivity': {'units': 'dB', 'standard_name': 'log_differential_reflectivity_hv', 'long_name': 'Differential reflectivity', 'coordinates': 'elevation azimuth range', 'data': masked_array(\n",
      "  data=[[-7.9375, -7.9375, --, ..., --, --, --],\n",
      "        [-7.9375, -7.9375, -7.9375, ..., --, --, --],\n",
      "        [-7.9375, -7.9375, --, ..., --, --, --],\n",
      "        ...,\n",
      "        [-7.9375, -7.9375, -7.9375, ..., --, --, --],\n",
      "        [-7.9375, -7.9375, -7.9375, ..., --, --, --],\n",
      "        [-7.9375, -7.9375, -7.9375, ..., --, --, --]],\n",
      "  mask=[[False, False,  True, ...,  True,  True,  True],\n",
      "        [False, False, False, ...,  True,  True,  True],\n",
      "        [False, False,  True, ...,  True,  True,  True],\n",
      "        ...,\n",
      "        [False, False, False, ...,  True,  True,  True],\n",
      "        [False, False, False, ...,  True,  True,  True],\n",
      "        [False, False, False, ...,  True,  True,  True]],\n",
      "  fill_value=1e+20,\n",
      "  dtype=float32), '_FillValue': -9999.0}, 'specific_differential_phase': {'units': 'degrees/km', 'standard_name': 'specific_differential_phase_hv', 'long_name': 'Specific differential phase (KDP)', 'coordinates': 'elevation azimuth range', 'data': masked_array(\n",
      "  data=[[0.0, 0.0, --, ..., --, --, --],\n",
      "        [0.0, 0.0, 0.0, ..., --, --, --],\n",
      "        [0.0, 0.0, --, ..., --, --, --],\n",
      "        ...,\n",
      "        [0.0, 0.0, 0.0, ..., --, --, --],\n",
      "        [0.0, 0.0, --, ..., --, --, --],\n",
      "        [0.0, 0.0, 0.0, ..., --, --, --]],\n",
      "  mask=[[False, False,  True, ...,  True,  True,  True],\n",
      "        [False, False, False, ...,  True,  True,  True],\n",
      "        [False, False,  True, ...,  True,  True,  True],\n",
      "        ...,\n",
      "        [False, False, False, ...,  True,  True,  True],\n",
      "        [False, False,  True, ...,  True,  True,  True],\n",
      "        [False, False, False, ...,  True,  True,  True]],\n",
      "  fill_value=1e+20,\n",
      "  dtype=float32), '_FillValue': -9999.0}, 'differential_phase': {'units': 'degrees', 'standard_name': 'differential_phase_hv', 'long_name': 'Differential phase (PhiDP)', 'valid_max': 180.0, 'valid_min': -180.0, 'coordinates': 'elevation azimuth range', 'data': masked_array(\n",
      "  data=[[102.0472412109375, 90.70866394042969, --, ..., --, --, --],\n",
      "        [77.9527587890625, 76.53543090820312, 75.11811065673828, ..., --,\n",
      "         --, --],\n",
      "        [77.24409484863281, 86.45669555664062, --, ..., --, --, --],\n",
      "        ...,\n",
      "        [147.40158081054688, 147.40158081054688, 153.07086181640625, ...,\n",
      "         --, --, --],\n",
      "        [135.3543243408203, 135.3543243408203, 130.39370727539062, ...,\n",
      "         --, --, --],\n",
      "        [145.2755889892578, 145.2755889892578, 73.70079040527344, ...,\n",
      "         --, --, --]],\n",
      "  mask=[[False, False,  True, ...,  True,  True,  True],\n",
      "        [False, False, False, ...,  True,  True,  True],\n",
      "        [False, False,  True, ...,  True,  True,  True],\n",
      "        ...,\n",
      "        [False, False, False, ...,  True,  True,  True],\n",
      "        [False, False, False, ...,  True,  True,  True],\n",
      "        [False, False, False, ...,  True,  True,  True]],\n",
      "  fill_value=1e+20,\n",
      "  dtype=float32), '_FillValue': -9999.0}, 'cross_correlation_ratio': {'units': 'ratio', 'standard_name': 'cross_correlation_ratio_hv', 'long_name': 'Cross correlation ratio (RHOHV)', 'valid_max': 1.0, 'valid_min': 0.0, 'coordinates': 'elevation azimuth range', 'data': masked_array(\n",
      "  data=[[0.33856239914894104, 0.7331776022911072, --, ..., --, --, --],\n",
      "        [0.23523598909378052, 0.6030226945877075, 0.25147783756256104,\n",
      "         ..., --, --, --],\n",
      "        [0.5107539296150208, 0.8221248984336853, --, ..., --, --, --],\n",
      "        ...,\n",
      "        [0.7277666330337524, 0.7250459790229797, 0.19881069660186768,\n",
      "         ..., --, --, --],\n",
      "        [0.8075728416442871, 0.7927537560462952, 0.6653478145599365, ...,\n",
      "         --, --, --],\n",
      "        [0.8868829011917114, 0.8620226383209229, 0.5587959885597229, ...,\n",
      "         --, --, --]],\n",
      "  mask=[[False, False,  True, ...,  True,  True,  True],\n",
      "        [False, False, False, ...,  True,  True,  True],\n",
      "        [False, False,  True, ...,  True,  True,  True],\n",
      "        ...,\n",
      "        [False, False, False, ...,  True,  True,  True],\n",
      "        [False, False, False, ...,  True,  True,  True],\n",
      "        [False, False, False, ...,  True,  True,  True]],\n",
      "  fill_value=1e+20,\n",
      "  dtype=float32), '_FillValue': -9999.0}, 'radar_echo_classification': {'units': 'legend', 'standard_name': 'radar_echo_classification', 'long_name': 'Radar Echo classification', 'coordinates': 'elevation azimuth range', 'data': masked_array(\n",
      "  data=[[9.0, 9.0, --, ..., --, --, --],\n",
      "        [9.0, 9.0, 17.0, ..., --, --, --],\n",
      "        [17.0, 17.0, --, ..., --, --, --],\n",
      "        ...,\n",
      "        [108.0, 17.0, --, ..., --, --, --],\n",
      "        [17.0, 17.0, --, ..., --, --, --],\n",
      "        [9.0, 9.0, 9.0, ..., --, --, --]],\n",
      "  mask=[[False, False,  True, ...,  True,  True,  True],\n",
      "        [False, False, False, ...,  True,  True,  True],\n",
      "        [False, False,  True, ...,  True,  True,  True],\n",
      "        ...,\n",
      "        [False, False,  True, ...,  True,  True,  True],\n",
      "        [False, False,  True, ...,  True,  True,  True],\n",
      "        [False, False, False, ...,  True,  True,  True]],\n",
      "  fill_value=1e+20,\n",
      "  dtype=float32), '_FillValue': -9999.0}}\n"
     ]
    }
   ],
   "source": [
    "print(radar.fields)"
   ]
  },
  {
   "cell_type": "code",
   "execution_count": 10,
   "metadata": {},
   "outputs": [
    {
     "name": "stdout",
     "output_type": "stream",
     "text": [
      "{'units': 'dBZ', 'standard_name': 'equivalent_reflectivity_factor', 'long_name': 'Reflectivity', 'coordinates': 'elevation azimuth range', 'data': masked_array(\n",
      "  data=[[--, --, --, ..., --, --, --],\n",
      "        [--, --, --, ..., --, --, --],\n",
      "        [--, --, --, ..., --, --, --],\n",
      "        ...,\n",
      "        [--, --, --, ..., --, --, --],\n",
      "        [--, --, --, ..., --, --, --],\n",
      "        [--, --, --, ..., --, --, --]],\n",
      "  mask=[[ True,  True,  True, ...,  True,  True,  True],\n",
      "        [ True,  True,  True, ...,  True,  True,  True],\n",
      "        [ True,  True,  True, ...,  True,  True,  True],\n",
      "        ...,\n",
      "        [ True,  True,  True, ...,  True,  True,  True],\n",
      "        [ True,  True,  True, ...,  True,  True,  True],\n",
      "        [ True,  True,  True, ...,  True,  True,  True]],\n",
      "  fill_value=1e+20,\n",
      "  dtype=float32), '_FillValue': -9999.0}\n"
     ]
    }
   ],
   "source": [
    "print(radar.fields['reflectivity'])"
   ]
  },
  {
   "cell_type": "markdown",
   "metadata": {},
   "source": [
    "We can go even further in the dictionary and a see within the reflectivity field by accessing the units or data itself.\n",
    "For example add the string data in brackets after the reflectivity string bracket."
   ]
  },
  {
   "cell_type": "code",
   "execution_count": 11,
   "metadata": {},
   "outputs": [
    {
     "name": "stdout",
     "output_type": "stream",
     "text": [
      "[[-- -- -- ... -- -- --]\n",
      " [-- -- -- ... -- -- --]\n",
      " [-- -- -- ... -- -- --]\n",
      " ...\n",
      " [-- -- -- ... -- -- --]\n",
      " [-- -- -- ... -- -- --]\n",
      " [-- -- -- ... -- -- --]]\n"
     ]
    }
   ],
   "source": [
    "print(radar.fields['reflectivity']['data'])"
   ]
  },
  {
   "cell_type": "code",
   "execution_count": 12,
   "metadata": {},
   "outputs": [
    {
     "name": "stdout",
     "output_type": "stream",
     "text": [
      "--\n"
     ]
    }
   ],
   "source": [
    "print(radar.fields['reflectivity']['data'][300, 2])"
   ]
  },
  {
   "cell_type": "markdown",
   "metadata": {},
   "source": [
    "Finally, for a more condensed view of the radar object, just use radar.info()."
   ]
  },
  {
   "cell_type": "code",
   "execution_count": 13,
   "metadata": {
    "scrolled": false
   },
   "outputs": [
    {
     "name": "stdout",
     "output_type": "stream",
     "text": [
      "altitude:\n",
      "\tdata: <ndarray of type: float64 and shape: (1,)>\n",
      "\tlong_name: Altitude\n",
      "\tstandard_name: Altitude\n",
      "\tunits: meters\n",
      "\tpositive: up\n",
      "altitude_agl: None\n",
      "antenna_transition: None\n",
      "azimuth:\n",
      "\tdata: <ndarray of type: float32 and shape: (3576,)>\n",
      "\tunits: degrees\n",
      "\tstandard_name: beam_azimuth_angle\n",
      "\tlong_name: azimuth_angle_from_true_north\n",
      "\taxis: radial_azimuth_coordinate\n",
      "\tcomment: Azimuth of antenna relative to true north\n",
      "elevation:\n",
      "\tdata: <ndarray of type: float32 and shape: (3576,)>\n",
      "\tunits: degrees\n",
      "\tstandard_name: beam_elevation_angle\n",
      "\tlong_name: elevation_angle_from_horizontal_plane\n",
      "\taxis: radial_elevation_coordinate\n",
      "\tcomment: Elevation of antenna relative to the horizontal plane\n",
      "fields:\n",
      "\ttotal_power:\n",
      "\t\tdata: <ndarray of type: float32 and shape: (3576, 664)>\n",
      "\t\tunits: dBZ\n",
      "\t\tstandard_name: equivalent_reflectivity_factor\n",
      "\t\tlong_name: Total power\n",
      "\t\tcoordinates: elevation azimuth range\n",
      "\t\t_FillValue: -9999.0\n",
      "\treflectivity:\n",
      "\t\tdata: <ndarray of type: float32 and shape: (3576, 664)>\n",
      "\t\tunits: dBZ\n",
      "\t\tstandard_name: equivalent_reflectivity_factor\n",
      "\t\tlong_name: Reflectivity\n",
      "\t\tcoordinates: elevation azimuth range\n",
      "\t\t_FillValue: -9999.0\n",
      "\tvelocity:\n",
      "\t\tdata: <ndarray of type: float32 and shape: (3576, 664)>\n",
      "\t\tunits: meters_per_second\n",
      "\t\tstandard_name: radial_velocity_of_scatterers_away_from_instrument\n",
      "\t\tlong_name: Mean dopper velocity\n",
      "\t\tcoordinates: elevation azimuth range\n",
      "\t\t_FillValue: -9999.0\n",
      "\tspectrum_width:\n",
      "\t\tdata: <ndarray of type: float32 and shape: (3576, 664)>\n",
      "\t\tunits: meters_per_second\n",
      "\t\tstandard_name: doppler_spectrum_width\n",
      "\t\tlong_name: Doppler spectrum width\n",
      "\t\tcoordinates: elevation azimuth range\n",
      "\t\t_FillValue: -9999.0\n",
      "\tdifferential_reflectivity:\n",
      "\t\tdata: <ndarray of type: float32 and shape: (3576, 664)>\n",
      "\t\tunits: dB\n",
      "\t\tstandard_name: log_differential_reflectivity_hv\n",
      "\t\tlong_name: Differential reflectivity\n",
      "\t\tcoordinates: elevation azimuth range\n",
      "\t\t_FillValue: -9999.0\n",
      "\tspecific_differential_phase:\n",
      "\t\tdata: <ndarray of type: float32 and shape: (3576, 664)>\n",
      "\t\tunits: degrees/km\n",
      "\t\tstandard_name: specific_differential_phase_hv\n",
      "\t\tlong_name: Specific differential phase (KDP)\n",
      "\t\tcoordinates: elevation azimuth range\n",
      "\t\t_FillValue: -9999.0\n",
      "\tdifferential_phase:\n",
      "\t\tdata: <ndarray of type: float32 and shape: (3576, 664)>\n",
      "\t\tunits: degrees\n",
      "\t\tstandard_name: differential_phase_hv\n",
      "\t\tlong_name: Differential phase (PhiDP)\n",
      "\t\tvalid_max: 180.0\n",
      "\t\tvalid_min: -180.0\n",
      "\t\tcoordinates: elevation azimuth range\n",
      "\t\t_FillValue: -9999.0\n",
      "\tcross_correlation_ratio:\n",
      "\t\tdata: <ndarray of type: float32 and shape: (3576, 664)>\n",
      "\t\tunits: ratio\n",
      "\t\tstandard_name: cross_correlation_ratio_hv\n",
      "\t\tlong_name: Cross correlation ratio (RHOHV)\n",
      "\t\tvalid_max: 1.0\n",
      "\t\tvalid_min: 0.0\n",
      "\t\tcoordinates: elevation azimuth range\n",
      "\t\t_FillValue: -9999.0\n",
      "\tradar_echo_classification:\n",
      "\t\tdata: <ndarray of type: float32 and shape: (3576, 664)>\n",
      "\t\tunits: legend\n",
      "\t\tstandard_name: radar_echo_classification\n",
      "\t\tlong_name: Radar Echo classification\n",
      "\t\tcoordinates: elevation azimuth range\n",
      "\t\t_FillValue: -9999.0\n",
      "fixed_angle:\n",
      "\tdata: <ndarray of type: float32 and shape: (10,)>\n",
      "\tlong_name: Target angle for sweep\n",
      "\tunits: degrees\n",
      "\tstandard_name: target_fixed_angle\n",
      "instrument_parameters:\n",
      "\tunambiguous_range:\n",
      "\t\tdata: <ndarray of type: float32 and shape: (3576,)>\n",
      "\t\tunits: meters\n",
      "\t\tcomments: Unambiguous range\n",
      "\t\tmeta_group: instrument_parameters\n",
      "\t\tlong_name: Unambiguous range\n",
      "\tprt_mode:\n",
      "\t\tdata: <ndarray of type: |S5 and shape: (10,)>\n",
      "\t\tcomments: Pulsing mode Options are: \"fixed\", \"staggered\", \"dual\". Assumed \"fixed\" if missing.\n",
      "\t\tmeta_group: instrument_parameters\n",
      "\t\tlong_name: Pulsing mode\n",
      "\t\tunits: unitless\n",
      "\tprt:\n",
      "\t\tdata: <ndarray of type: float32 and shape: (3576,)>\n",
      "\t\tunits: seconds\n",
      "\t\tcomments: Pulse repetition time. For staggered prt, also see prt_ratio.\n",
      "\t\tmeta_group: instrument_parameters\n",
      "\t\tlong_name: Pulse repetition time\n",
      "\tprt_ratio:\n",
      "\t\tdata: <ndarray of type: float32 and shape: (3576,)>\n",
      "\t\tunits: unitless\n",
      "\t\tmeta_group: instrument_parameters\n",
      "\t\tlong_name: Pulse repetition frequency ratio\n",
      "\tnyquist_velocity:\n",
      "\t\tdata: <ndarray of type: float32 and shape: (3576,)>\n",
      "\t\tunits: meters_per_second\n",
      "\t\tcomments: Unambiguous velocity\n",
      "\t\tmeta_group: instrument_parameters\n",
      "\t\tlong_name: Nyquist velocity\n",
      "\tradar_beam_width_h:\n",
      "\t\tdata: <ndarray of type: float32 and shape: (1,)>\n",
      "\t\tunits: degrees\n",
      "\t\tmeta_group: radar_parameters\n",
      "\t\tlong_name: Antenna beam width H polarization\n",
      "\tradar_beam_width_v:\n",
      "\t\tdata: <ndarray of type: float32 and shape: (1,)>\n",
      "\t\tunits: degrees\n",
      "\t\tmeta_group: radar_parameters\n",
      "\t\tlong_name: Antenna beam width V polarization\n",
      "\tpulse_width:\n",
      "\t\tdata: <ndarray of type: float32 and shape: (3576,)>\n",
      "\t\tunits: seconds\n",
      "\t\tcomments: Pulse width\n",
      "\t\tmeta_group: instrument_parameters\n",
      "\t\tlong_name: Pulse width\n",
      "latitude:\n",
      "\tdata: <ndarray of type: float64 and shape: (1,)>\n",
      "\tlong_name: Latitude\n",
      "\tstandard_name: Latitude\n",
      "\tunits: degrees_north\n",
      "longitude:\n",
      "\tdata: <ndarray of type: float64 and shape: (1,)>\n",
      "\tlong_name: Longitude\n",
      "\tstandard_name: Longitude\n",
      "\tunits: degrees_east\n",
      "nsweeps: 10\n",
      "ngates: 664\n",
      "nrays: 3576\n",
      "radar_calibration: None\n",
      "range:\n",
      "\tdata: <ndarray of type: float32 and shape: (664,)>\n",
      "\tunits: meters\n",
      "\tstandard_name: projection_range_coordinate\n",
      "\tlong_name: range_to_measurement_volume\n",
      "\taxis: radial_range_coordinate\n",
      "\tspacing_is_constant: true\n",
      "\tcomment: Coordinate variable for range. Range to center of each bin.\n",
      "\tmeters_to_center_of_first_gate: [300.]\n",
      "\tmeters_between_gates: [450.]\n",
      "scan_rate: None\n",
      "scan_type: ppi\n",
      "sweep_end_ray_index:\n",
      "\tdata: <ndarray of type: int32 and shape: (10,)>\n",
      "\tlong_name: Index of last ray in sweep, 0-based\n",
      "\tunits: count\n",
      "sweep_mode:\n",
      "\tdata: <ndarray of type: |S20 and shape: (10,)>\n",
      "\tunits: unitless\n",
      "\tstandard_name: sweep_mode\n",
      "\tlong_name: Sweep mode\n",
      "\tcomment: Options are: \"sector\", \"coplane\", \"rhi\", \"vertical_pointing\", \"idle\", \"azimuth_surveillance\", \"elevation_surveillance\", \"sunscan\", \"pointing\", \"manual_ppi\", \"manual_rhi\"\n",
      "sweep_number:\n",
      "\tdata: <ndarray of type: int32 and shape: (10,)>\n",
      "\tunits: count\n",
      "\tstandard_name: sweep_number\n",
      "\tlong_name: Sweep number\n",
      "sweep_start_ray_index:\n",
      "\tdata: <ndarray of type: int32 and shape: (10,)>\n",
      "\tlong_name: Index of first ray in sweep, 0-based\n",
      "\tunits: count\n",
      "target_scan_rate: None\n",
      "time:\n",
      "\tdata: <ndarray of type: float64 and shape: (3576,)>\n",
      "\tunits: seconds since 2019-10-23T20:10:03Z\n",
      "\tstandard_name: time\n",
      "\tlong_name: time_in_seconds_since_volume_start\n",
      "\tcalendar: gregorian\n",
      "\tcomment: Coordinate variable for time. Time at the center of each ray, in fractional seconds since the global variable time_coverage_start\n",
      "metadata:\n",
      "\tConventions: CF/Radial instrument_parameters\n",
      "\tversion: 1.3\n",
      "\ttitle: \n",
      "\tinstitution: \n",
      "\treferences: \n",
      "\tsource: \n",
      "\thistory: \n",
      "\tcomment: \n",
      "\tinstrument_name: b'Tablazo, Radar'\n",
      "\toriginal_container: sigmet\n",
      "\tsigmet_task_name: b'SURV_HV_300 '\n",
      "\tsigmet_extended_header: true\n",
      "\ttime_ordered: none\n",
      "\trays_missing: 24\n"
     ]
    }
   ],
   "source": [
    "radar.info()"
   ]
  },
  {
   "cell_type": "markdown",
   "metadata": {},
   "source": [
    "Ahora que hemos cargado los datos y los hemos inspeccionado, ¡el siguiente paso lógico es visualizar los datos! La funcionalidad de visualización de Py-ART se realiza a través de los objetos en el módulo pyart.graph:\n",
    "\n",
    "http://arm-doe.github.io/pyart-docs-travis/user_reference/graph.html\n",
    "\n",
    "En Py-ART hay 5 clases de visualización en pyart.graph:\n",
    "\n",
    "* RadarDisplay\n",
    "* RadarMapDisplay\n",
    "* AirborneRadarDisplay\n",
    "\n",
    "Trazar datos de cuadrícula\n",
    "* GridMapDisplay\n",
    "\n",
    "Para los ejemplos en este tutorial, usaremos RadarMapDisplay. Para este ejemplo, vamos a usar Cartopy para trazar nuestros datos."
   ]
  },
  {
   "cell_type": "markdown",
   "metadata": {},
   "source": [
    "Para mostrar una imagen de radar usando Cartopy, primero creamos una figura y luego creamos un objeto RadarMapDisplayCartopy desde el radar. El siguiente ejemplo muestra la reflectividad del radar."
   ]
  },
  {
   "cell_type": "code",
   "execution_count": 20,
   "metadata": {},
   "outputs": [
    {
     "ename": "AttributeError",
     "evalue": "'AxesSubplot' object has no property 'figsize'",
     "output_type": "error",
     "traceback": [
      "\u001b[1;31m---------------------------------------------------------------------------\u001b[0m",
      "\u001b[1;31mAttributeError\u001b[0m                            Traceback (most recent call last)",
      "\u001b[1;32m~\\AppData\\Local\\Temp/ipykernel_2152/146925806.py\u001b[0m in \u001b[0;36m<module>\u001b[1;34m\u001b[0m\n\u001b[1;32m----> 1\u001b[1;33m \u001b[0mfig\u001b[0m \u001b[1;33m=\u001b[0m \u001b[0mplt\u001b[0m\u001b[1;33m.\u001b[0m\u001b[0msubplot\u001b[0m\u001b[1;33m(\u001b[0m\u001b[0mfigsize\u001b[0m\u001b[1;33m=\u001b[0m\u001b[1;33m[\u001b[0m\u001b[1;36m12\u001b[0m\u001b[1;33m,\u001b[0m \u001b[1;36m8\u001b[0m\u001b[1;33m]\u001b[0m\u001b[1;33m)\u001b[0m\u001b[1;33m\u001b[0m\u001b[1;33m\u001b[0m\u001b[0m\n\u001b[0m\u001b[0;32m      2\u001b[0m \u001b[0mdisplay\u001b[0m \u001b[1;33m=\u001b[0m \u001b[0mpyart\u001b[0m\u001b[1;33m.\u001b[0m\u001b[0mgraph\u001b[0m\u001b[1;33m.\u001b[0m\u001b[0mRadarMapDisplay\u001b[0m\u001b[1;33m(\u001b[0m\u001b[0mradar\u001b[0m\u001b[1;33m)\u001b[0m\u001b[1;33m\u001b[0m\u001b[1;33m\u001b[0m\u001b[0m\n\u001b[0;32m      3\u001b[0m display.plot_ppi_map('reflectivity', sweep=2, resolution='10m',\n\u001b[0;32m      4\u001b[0m                      \u001b[0mvmin\u001b[0m\u001b[1;33m=\u001b[0m\u001b[1;36m0\u001b[0m\u001b[1;33m,\u001b[0m \u001b[0mvmax\u001b[0m\u001b[1;33m=\u001b[0m\u001b[1;36m60\u001b[0m\u001b[1;33m,\u001b[0m\u001b[1;33m\u001b[0m\u001b[1;33m\u001b[0m\u001b[0m\n\u001b[0;32m      5\u001b[0m                      \u001b[0mmin_lon\u001b[0m\u001b[1;33m=\u001b[0m\u001b[1;33m-\u001b[0m\u001b[1;36m72\u001b[0m\u001b[1;33m,\u001b[0m \u001b[0mmax_lon\u001b[0m\u001b[1;33m=\u001b[0m\u001b[1;33m-\u001b[0m\u001b[1;36m77\u001b[0m\u001b[1;33m,\u001b[0m\u001b[1;33m\u001b[0m\u001b[1;33m\u001b[0m\u001b[0m\n",
      "\u001b[1;32m~\\anaconda3\\envs\\radar_panama\\lib\\site-packages\\matplotlib\\pyplot.py\u001b[0m in \u001b[0;36msubplot\u001b[1;34m(*args, **kwargs)\u001b[0m\n\u001b[0;32m   1281\u001b[0m     \u001b[1;32melse\u001b[0m\u001b[1;33m:\u001b[0m\u001b[1;33m\u001b[0m\u001b[1;33m\u001b[0m\u001b[0m\n\u001b[0;32m   1282\u001b[0m         \u001b[1;31m# we have exhausted the known Axes and none match, make a new one!\u001b[0m\u001b[1;33m\u001b[0m\u001b[1;33m\u001b[0m\u001b[1;33m\u001b[0m\u001b[0m\n\u001b[1;32m-> 1283\u001b[1;33m         \u001b[0max\u001b[0m \u001b[1;33m=\u001b[0m \u001b[0mfig\u001b[0m\u001b[1;33m.\u001b[0m\u001b[0madd_subplot\u001b[0m\u001b[1;33m(\u001b[0m\u001b[1;33m*\u001b[0m\u001b[0margs\u001b[0m\u001b[1;33m,\u001b[0m \u001b[1;33m**\u001b[0m\u001b[0mkwargs\u001b[0m\u001b[1;33m)\u001b[0m\u001b[1;33m\u001b[0m\u001b[1;33m\u001b[0m\u001b[0m\n\u001b[0m\u001b[0;32m   1284\u001b[0m \u001b[1;33m\u001b[0m\u001b[0m\n\u001b[0;32m   1285\u001b[0m     \u001b[0mfig\u001b[0m\u001b[1;33m.\u001b[0m\u001b[0msca\u001b[0m\u001b[1;33m(\u001b[0m\u001b[0max\u001b[0m\u001b[1;33m)\u001b[0m\u001b[1;33m\u001b[0m\u001b[1;33m\u001b[0m\u001b[0m\n",
      "\u001b[1;32m~\\anaconda3\\envs\\radar_panama\\lib\\site-packages\\matplotlib\\figure.py\u001b[0m in \u001b[0;36madd_subplot\u001b[1;34m(self, *args, **kwargs)\u001b[0m\n\u001b[0;32m    770\u001b[0m             projection_class, pkw = self._process_projection_requirements(\n\u001b[0;32m    771\u001b[0m                 *args, **kwargs)\n\u001b[1;32m--> 772\u001b[1;33m             \u001b[0max\u001b[0m \u001b[1;33m=\u001b[0m \u001b[0msubplot_class_factory\u001b[0m\u001b[1;33m(\u001b[0m\u001b[0mprojection_class\u001b[0m\u001b[1;33m)\u001b[0m\u001b[1;33m(\u001b[0m\u001b[0mself\u001b[0m\u001b[1;33m,\u001b[0m \u001b[1;33m*\u001b[0m\u001b[0margs\u001b[0m\u001b[1;33m,\u001b[0m \u001b[1;33m**\u001b[0m\u001b[0mpkw\u001b[0m\u001b[1;33m)\u001b[0m\u001b[1;33m\u001b[0m\u001b[1;33m\u001b[0m\u001b[0m\n\u001b[0m\u001b[0;32m    773\u001b[0m             \u001b[0mkey\u001b[0m \u001b[1;33m=\u001b[0m \u001b[1;33m(\u001b[0m\u001b[0mprojection_class\u001b[0m\u001b[1;33m,\u001b[0m \u001b[0mpkw\u001b[0m\u001b[1;33m)\u001b[0m\u001b[1;33m\u001b[0m\u001b[1;33m\u001b[0m\u001b[0m\n\u001b[0;32m    774\u001b[0m         \u001b[1;32mreturn\u001b[0m \u001b[0mself\u001b[0m\u001b[1;33m.\u001b[0m\u001b[0m_add_axes_internal\u001b[0m\u001b[1;33m(\u001b[0m\u001b[0max\u001b[0m\u001b[1;33m,\u001b[0m \u001b[0mkey\u001b[0m\u001b[1;33m)\u001b[0m\u001b[1;33m\u001b[0m\u001b[1;33m\u001b[0m\u001b[0m\n",
      "\u001b[1;32m~\\anaconda3\\envs\\radar_panama\\lib\\site-packages\\matplotlib\\axes\\_subplots.py\u001b[0m in \u001b[0;36m__init__\u001b[1;34m(self, fig, *args, **kwargs)\u001b[0m\n\u001b[0;32m     32\u001b[0m         \"\"\"\n\u001b[0;32m     33\u001b[0m         \u001b[1;31m# _axes_class is set in the subplot_class_factory\u001b[0m\u001b[1;33m\u001b[0m\u001b[1;33m\u001b[0m\u001b[1;33m\u001b[0m\u001b[0m\n\u001b[1;32m---> 34\u001b[1;33m         \u001b[0mself\u001b[0m\u001b[1;33m.\u001b[0m\u001b[0m_axes_class\u001b[0m\u001b[1;33m.\u001b[0m\u001b[0m__init__\u001b[0m\u001b[1;33m(\u001b[0m\u001b[0mself\u001b[0m\u001b[1;33m,\u001b[0m \u001b[0mfig\u001b[0m\u001b[1;33m,\u001b[0m \u001b[1;33m[\u001b[0m\u001b[1;36m0\u001b[0m\u001b[1;33m,\u001b[0m \u001b[1;36m0\u001b[0m\u001b[1;33m,\u001b[0m \u001b[1;36m1\u001b[0m\u001b[1;33m,\u001b[0m \u001b[1;36m1\u001b[0m\u001b[1;33m]\u001b[0m\u001b[1;33m,\u001b[0m \u001b[1;33m**\u001b[0m\u001b[0mkwargs\u001b[0m\u001b[1;33m)\u001b[0m\u001b[1;33m\u001b[0m\u001b[1;33m\u001b[0m\u001b[0m\n\u001b[0m\u001b[0;32m     35\u001b[0m         \u001b[1;31m# This will also update the axes position.\u001b[0m\u001b[1;33m\u001b[0m\u001b[1;33m\u001b[0m\u001b[1;33m\u001b[0m\u001b[0m\n\u001b[0;32m     36\u001b[0m         \u001b[0mself\u001b[0m\u001b[1;33m.\u001b[0m\u001b[0mset_subplotspec\u001b[0m\u001b[1;33m(\u001b[0m\u001b[0mSubplotSpec\u001b[0m\u001b[1;33m.\u001b[0m\u001b[0m_from_subplot_args\u001b[0m\u001b[1;33m(\u001b[0m\u001b[0mfig\u001b[0m\u001b[1;33m,\u001b[0m \u001b[0margs\u001b[0m\u001b[1;33m)\u001b[0m\u001b[1;33m)\u001b[0m\u001b[1;33m\u001b[0m\u001b[1;33m\u001b[0m\u001b[0m\n",
      "\u001b[1;32m~\\anaconda3\\envs\\radar_panama\\lib\\site-packages\\matplotlib\\_api\\deprecation.py\u001b[0m in \u001b[0;36mwrapper\u001b[1;34m(*args, **kwargs)\u001b[0m\n\u001b[0;32m    454\u001b[0m                 \u001b[1;34m\"parameter will become keyword-only %(removal)s.\"\u001b[0m\u001b[1;33m,\u001b[0m\u001b[1;33m\u001b[0m\u001b[1;33m\u001b[0m\u001b[0m\n\u001b[0;32m    455\u001b[0m                 name=name, obj_type=f\"parameter of {func.__name__}()\")\n\u001b[1;32m--> 456\u001b[1;33m         \u001b[1;32mreturn\u001b[0m \u001b[0mfunc\u001b[0m\u001b[1;33m(\u001b[0m\u001b[1;33m*\u001b[0m\u001b[0margs\u001b[0m\u001b[1;33m,\u001b[0m \u001b[1;33m**\u001b[0m\u001b[0mkwargs\u001b[0m\u001b[1;33m)\u001b[0m\u001b[1;33m\u001b[0m\u001b[1;33m\u001b[0m\u001b[0m\n\u001b[0m\u001b[0;32m    457\u001b[0m \u001b[1;33m\u001b[0m\u001b[0m\n\u001b[0;32m    458\u001b[0m     \u001b[1;31m# Don't modify *func*'s signature, as boilerplate.py needs it.\u001b[0m\u001b[1;33m\u001b[0m\u001b[1;33m\u001b[0m\u001b[1;33m\u001b[0m\u001b[0m\n",
      "\u001b[1;32m~\\anaconda3\\envs\\radar_panama\\lib\\site-packages\\matplotlib\\axes\\_base.py\u001b[0m in \u001b[0;36m__init__\u001b[1;34m(self, fig, rect, facecolor, frameon, sharex, sharey, label, xscale, yscale, box_aspect, **kwargs)\u001b[0m\n\u001b[0;32m    644\u001b[0m             \u001b[0mself\u001b[0m\u001b[1;33m.\u001b[0m\u001b[0mset_yscale\u001b[0m\u001b[1;33m(\u001b[0m\u001b[0myscale\u001b[0m\u001b[1;33m)\u001b[0m\u001b[1;33m\u001b[0m\u001b[1;33m\u001b[0m\u001b[0m\n\u001b[0;32m    645\u001b[0m \u001b[1;33m\u001b[0m\u001b[0m\n\u001b[1;32m--> 646\u001b[1;33m         \u001b[0mself\u001b[0m\u001b[1;33m.\u001b[0m\u001b[0mupdate\u001b[0m\u001b[1;33m(\u001b[0m\u001b[0mkwargs\u001b[0m\u001b[1;33m)\u001b[0m\u001b[1;33m\u001b[0m\u001b[1;33m\u001b[0m\u001b[0m\n\u001b[0m\u001b[0;32m    647\u001b[0m \u001b[1;33m\u001b[0m\u001b[0m\n\u001b[0;32m    648\u001b[0m         \u001b[1;32mfor\u001b[0m \u001b[0mname\u001b[0m\u001b[1;33m,\u001b[0m \u001b[0maxis\u001b[0m \u001b[1;32min\u001b[0m \u001b[0mself\u001b[0m\u001b[1;33m.\u001b[0m\u001b[0m_get_axis_map\u001b[0m\u001b[1;33m(\u001b[0m\u001b[1;33m)\u001b[0m\u001b[1;33m.\u001b[0m\u001b[0mitems\u001b[0m\u001b[1;33m(\u001b[0m\u001b[1;33m)\u001b[0m\u001b[1;33m:\u001b[0m\u001b[1;33m\u001b[0m\u001b[1;33m\u001b[0m\u001b[0m\n",
      "\u001b[1;32m~\\anaconda3\\envs\\radar_panama\\lib\\site-packages\\matplotlib\\artist.py\u001b[0m in \u001b[0;36mupdate\u001b[1;34m(self, props)\u001b[0m\n\u001b[0;32m   1062\u001b[0m                     \u001b[0mfunc\u001b[0m \u001b[1;33m=\u001b[0m \u001b[0mgetattr\u001b[0m\u001b[1;33m(\u001b[0m\u001b[0mself\u001b[0m\u001b[1;33m,\u001b[0m \u001b[1;34mf\"set_{k}\"\u001b[0m\u001b[1;33m,\u001b[0m \u001b[1;32mNone\u001b[0m\u001b[1;33m)\u001b[0m\u001b[1;33m\u001b[0m\u001b[1;33m\u001b[0m\u001b[0m\n\u001b[0;32m   1063\u001b[0m                     \u001b[1;32mif\u001b[0m \u001b[1;32mnot\u001b[0m \u001b[0mcallable\u001b[0m\u001b[1;33m(\u001b[0m\u001b[0mfunc\u001b[0m\u001b[1;33m)\u001b[0m\u001b[1;33m:\u001b[0m\u001b[1;33m\u001b[0m\u001b[1;33m\u001b[0m\u001b[0m\n\u001b[1;32m-> 1064\u001b[1;33m                         raise AttributeError(f\"{type(self).__name__!r} object \"\n\u001b[0m\u001b[0;32m   1065\u001b[0m                                              f\"has no property {k!r}\")\n\u001b[0;32m   1066\u001b[0m                     \u001b[0mret\u001b[0m\u001b[1;33m.\u001b[0m\u001b[0mappend\u001b[0m\u001b[1;33m(\u001b[0m\u001b[0mfunc\u001b[0m\u001b[1;33m(\u001b[0m\u001b[0mv\u001b[0m\u001b[1;33m)\u001b[0m\u001b[1;33m)\u001b[0m\u001b[1;33m\u001b[0m\u001b[1;33m\u001b[0m\u001b[0m\n",
      "\u001b[1;31mAttributeError\u001b[0m: 'AxesSubplot' object has no property 'figsize'"
     ]
    },
    {
     "data": {
      "text/plain": [
       "<Figure size 432x288 with 0 Axes>"
      ]
     },
     "metadata": {},
     "output_type": "display_data"
    }
   ],
   "source": [
    "fig = plt.subplot(figsize=[12, 8])\n",
    "display = pyart.graph.RadarMapDisplay(radar)\n",
    "display.plot_ppi_map('reflectivity', sweep=2, resolution='10m',\n",
    "                     vmin=0, vmax=60,\n",
    "                     min_lon=-72, max_lon=-77,\n",
    "                     min_lat=2, max_lat=7.5,\n",
    "                     projection=ccrs.PlateCarree(), fig=fig)\n",
    "plt.show()"
   ]
  },
  {
   "cell_type": "markdown",
   "metadata": {},
   "source": [
    "Puede cambiar muchos parámetros en el gráfico cambiando los argumentos a plot_ppi_map. Como puedes recordar de antes. simplemente vea estos argumentos en un cuaderno de Jupyter escribiendo:"
   ]
  },
  {
   "cell_type": "code",
   "execution_count": null,
   "metadata": {},
   "outputs": [],
   "source": [
    "display.plot_ppi_map?"
   ]
  },
  {
   "cell_type": "markdown",
   "metadata": {},
   "source": [
    "For example, let's change the colormap to something different"
   ]
  },
  {
   "cell_type": "code",
   "execution_count": null,
   "metadata": {},
   "outputs": [],
   "source": [
    "fig = plt.figure(figsize=[12, 8])\n",
    "display = pyart.graph.RadarMapDisplay(radar)\n",
    "display.plot_ppi_map('reflectivity', sweep=2, resolution='50m',\n",
    "                     vmin=-8, vmax=64, \n",
    "                     #min_lon=-98.25, max_lon=-96.75,\n",
    "                     #min_lat=35.75, max_lat=37.25,\n",
    "                     projection=ccrs.PlateCarree(), cmap='pyart_Gray9')\n",
    "plt.show()"
   ]
  },
  {
   "cell_type": "markdown",
   "metadata": {},
   "source": [
    "¡veamos un escaneo de elevación diferente! Para hacer esto, cambie el parámetro de barrido en la función plot_ppi_map."
   ]
  },
  {
   "cell_type": "code",
   "execution_count": null,
   "metadata": {
    "scrolled": false
   },
   "outputs": [],
   "source": [
    "fig = plt.figure(figsize=[12, 8])\n",
    "display = pyart.graph.RadarMapDisplay(radar)\n",
    "display.plot_ppi_map('reflectivity', sweep=6, resolution='50m',\n",
    "                     vmin=-8, vmax=64,\n",
    "                     #min_lon=-98.25, max_lon=-96.75,\n",
    "                     #min_lat=35.75, max_lat=37.25,\n",
    "                     projection=ccrs.PlateCarree())\n",
    "plt.show()"
   ]
  },
  {
   "cell_type": "markdown",
   "metadata": {},
   "source": [
    "#  Es Su turno\n",
    "Utilizando una sentencia for, generar un gráfico de cada una de las elevaciones del radar"
   ]
  },
  {
   "cell_type": "markdown",
   "metadata": {},
   "source": [
    "O muestre la velocidad radial en lugar de la reflectividad."
   ]
  },
  {
   "cell_type": "code",
   "execution_count": null,
   "metadata": {},
   "outputs": [],
   "source": [
    "nyq = radar.instrument_parameters['nyquist_velocity']['data'][0]\n",
    "\n",
    "fig = plt.figure(figsize=[12, 8])\n",
    "display = pyart.graph.RadarMapDisplay(radar)\n",
    "display.plot_ppi_map('velocity', sweep=2, resolution='50m',\n",
    "                     vmin=-nyq, vmax=nyq, \n",
    "                     #min_lon=-98.25, max_lon=-96.75,\n",
    "                     #min_lat=35.75, max_lat=37.25,\n",
    "                     projection=ccrs.PlateCarree(), cmap='coolwarm')\n",
    "plt.show()"
   ]
  },
  {
   "cell_type": "markdown",
   "metadata": {},
   "source": [
    "## Ejercicio\n",
    "\n",
    "Ahora que se han introducido los conceptos básicos de carga y procesamiento de archivos Cf / Radial, sigamos usando lo que hemos aprendido para cargar y grafiquemos un archivo del radar de Guaviare (GUA) ubicado en el directorio de datos. Se recomienda usar radar.fields.keys () para verificar el nombre de los campos para el trazado. Juegue con factores cambiantes como el área, la escala de colores, los mapas de colores, los límites de los ejes para tener una idea de cómo visualizar los datos de radar con Py-ART."
   ]
  },
  {
   "cell_type": "code",
   "execution_count": null,
   "metadata": {},
   "outputs": [],
   "source": []
  },
  {
   "cell_type": "markdown",
   "metadata": {},
   "source": [
    "Press shift-Enter in the below cell for a possible answer. There are many ways to visualize data using Py-ART, so the answer here is not necessarily the only one!"
   ]
  },
  {
   "cell_type": "code",
   "execution_count": null,
   "metadata": {
    "scrolled": true
   },
   "outputs": [],
   "source": [
    "%load section_1_answer.py\n"
   ]
  },
  {
   "cell_type": "code",
   "execution_count": null,
   "metadata": {},
   "outputs": [],
   "source": []
  },
  {
   "cell_type": "code",
   "execution_count": null,
   "metadata": {},
   "outputs": [],
   "source": []
  },
  {
   "cell_type": "code",
   "execution_count": null,
   "metadata": {},
   "outputs": [],
   "source": []
  }
 ],
 "metadata": {
  "kernelspec": {
   "display_name": "Python 3 (ipykernel)",
   "language": "python",
   "name": "python3"
  },
  "language_info": {
   "codemirror_mode": {
    "name": "ipython",
    "version": 3
   },
   "file_extension": ".py",
   "mimetype": "text/x-python",
   "name": "python",
   "nbconvert_exporter": "python",
   "pygments_lexer": "ipython3",
   "version": "3.8.12"
  }
 },
 "nbformat": 4,
 "nbformat_minor": 2
}
