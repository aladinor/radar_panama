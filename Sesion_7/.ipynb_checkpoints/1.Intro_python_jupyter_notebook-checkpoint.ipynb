{
 "cells": [
  {
   "cell_type": "markdown",
   "metadata": {},
   "source": [
    "<img src=\"./imagenes/Jupyter.png\" width=\"800\" height=\"400\" />\n"
   ]
  },
  {
   "cell_type": "markdown",
   "metadata": {},
   "source": [
    "# Jupyter Notebook"
   ]
  },
  {
   "cell_type": "markdown",
   "metadata": {},
   "source": [
    "El Jupyter Notebook es una aplicación web de código abierto que le permite crear y compartir documentos que contienen código en vivo, ecuaciones, visualizaciones y texto narrativo. Los usos incluyen: limpieza y transformación de datos, simulación numérica, modelado estadístico, visualización de datos, aprendizaje automático y mucho más."
   ]
  },
  {
   "cell_type": "markdown",
   "metadata": {},
   "source": [
    "## ¿Cómo instalar Jupyter Notebook?"
   ]
  },
  {
   "cell_type": "code",
   "execution_count": 1,
   "metadata": {},
   "outputs": [
    {
     "data": {
      "text/html": [
       "\n",
       "        <iframe\n",
       "            width=\"900\"\n",
       "            height=\"600\"\n",
       "            src=\"https://www.anaconda.com/distribution/\"\n",
       "            frameborder=\"0\"\n",
       "            allowfullscreen\n",
       "            \n",
       "        ></iframe>\n",
       "        "
      ],
      "text/plain": [
       "<IPython.lib.display.IFrame at 0x213a91de700>"
      ]
     },
     "execution_count": 1,
     "metadata": {},
     "output_type": "execute_result"
    }
   ],
   "source": [
    "from IPython.display import IFrame\n",
    "IFrame(src='https://www.anaconda.com/distribution/', width=900, height=600)"
   ]
  },
  {
   "cell_type": "markdown",
   "metadata": {},
   "source": [
    "## ¿Qué instala Anaconda?"
   ]
  },
  {
   "cell_type": "markdown",
   "metadata": {},
   "source": [
    "![title](https://i.ytimg.com/vi/Q0jGAZAdZqM/maxresdefault.jpg)"
   ]
  },
  {
   "cell_type": "markdown",
   "metadata": {},
   "source": [
    "# ¿Qué lenguaje de programación usaremos?"
   ]
  },
  {
   "cell_type": "markdown",
   "metadata": {},
   "source": [
    "<img src=\"data:image/jpeg;base64,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\">"
   ]
  },
  {
   "cell_type": "markdown",
   "metadata": {},
   "source": [
    "# Familiarización con el entorno de desarrollo ** Jupyter Notebook **"
   ]
  },
  {
   "cell_type": "markdown",
   "metadata": {},
   "source": [
    "<img src=\"http://community.datacamp.com.s3.amazonaws.com/community/production/ckeditor_assets/pictures/202/content_jupyternotebook7.gif\">"
   ]
  },
  {
   "cell_type": "markdown",
   "metadata": {},
   "source": [
    "## 1. Ejecutar el código del programa\n",
    "\n",
    "+ Botón \"Play\" en la bandeja superior\n",
    "+ ```Ctrl + Enter``` - solo inicia la celda\n",
    "+ ```Shift + Enter``` - lanza la celda + mueve a la celda inferior"
   ]
  },
  {
   "cell_type": "markdown",
   "metadata": {},
   "source": [
    "## 2. Combinaciones de teclas\n",
    "\n",
    "+ ```Esc``` /``` Enter``` - transición entre la función de edición y la navegación en el entorno\n",
    "+ ```D + D``` - eliminar la celda seleccionada\n",
    "+ ```A``` - agregar nueva celda en la parte superior\n",
    "+ ```B``` - agregar nueva celda abajo\n",
    "+ ```Tab``` - autocompletado / descripción del método\n",
    "+ ```Shift + Up / Down``` - selección de celdas múltiples\n",
    "+ ```Shift + M``` - fusionar celdas seleccionadas\n",
    "+ ```M / Y``` - cambia la celda al modo ```markdown``` /``` code```\n"
   ]
  },
  {
   "cell_type": "markdown",
   "metadata": {},
   "source": [
    "## 3. Acceso a la documentación."
   ]
  },
  {
   "cell_type": "code",
   "execution_count": 6,
   "metadata": {},
   "outputs": [],
   "source": [
    "?list.append"
   ]
  },
  {
   "cell_type": "code",
   "execution_count": 11,
   "metadata": {
    "collapsed": true
   },
   "outputs": [
    {
     "name": "stdout",
     "output_type": "stream",
     "text": [
      "Collecting package metadata (current_repodata.json): ...working... done\n",
      "Solving environment: ...working... done\n",
      "\n",
      "# All requested packages already installed.\n",
      "\n",
      "Collecting package metadata (current_repodata.json): ...working... done\n",
      "Solving environment: ...working... done\n",
      "\n",
      "## Package Plan ##\n",
      "\n",
      "  environment location: C:\\Users\\ladin\\anaconda3\\envs\\radar_panama\n",
      "\n",
      "  added / updated specs:\n",
      "    - matplotlib\n",
      "\n",
      "\n",
      "The following packages will be downloaded:\n",
      "\n",
      "    package                    |            build\n",
      "    ---------------------------|-----------------\n",
      "    brotli-1.0.9               |       h8ffe710_6          18 KB  conda-forge\n",
      "    brotli-bin-1.0.9           |       h8ffe710_6          21 KB  conda-forge\n",
      "    certifi-2021.10.8          |   py38haa244fe_1         145 KB  conda-forge\n",
      "    cycler-0.11.0              |     pyhd8ed1ab_0          10 KB  conda-forge\n",
      "    fonttools-4.28.2           |   py38h294d835_0         1.5 MB  conda-forge\n",
      "    icu-68.2                   |       h0e60522_0        16.4 MB  conda-forge\n",
      "    kiwisolver-1.3.2           |   py38hbd9d945_1          59 KB  conda-forge\n",
      "    lerc-3.0                   |       h0e60522_0         140 KB  conda-forge\n",
      "    libbrotlicommon-1.0.9      |       h8ffe710_6          67 KB  conda-forge\n",
      "    libbrotlidec-1.0.9         |       h8ffe710_6          33 KB  conda-forge\n",
      "    libbrotlienc-1.0.9         |       h8ffe710_6         721 KB  conda-forge\n",
      "    libclang-11.1.0            |default_h5c34c98_1        20.8 MB  conda-forge\n",
      "    libdeflate-1.8             |       h8ffe710_0          61 KB  conda-forge\n",
      "    libtiff-4.3.0              |       hd413186_2         1.1 MB  conda-forge\n",
      "    matplotlib-3.5.0           |   py38haa244fe_0           7 KB  conda-forge\n",
      "    matplotlib-base-3.5.0      |   py38h1f000d6_0         7.4 MB  conda-forge\n",
      "    munkres-1.1.4              |     pyh9f0ad1d_0          12 KB  conda-forge\n",
      "    pillow-8.4.0               |   py38h794f750_0         778 KB  conda-forge\n",
      "    pyqt-5.12.3                |   py38haa244fe_8          22 KB  conda-forge\n",
      "    pyqt-impl-5.12.3           |   py38h885f38d_8         4.3 MB  conda-forge\n",
      "    pyqt5-sip-4.19.18          |   py38h885f38d_8         299 KB  conda-forge\n",
      "    pyqtchart-5.12             |   py38h885f38d_8         208 KB  conda-forge\n",
      "    pyqtwebengine-5.12.1       |   py38h885f38d_8         143 KB  conda-forge\n",
      "    python-3.8.12              |h7840368_2_cpython        19.2 MB  conda-forge\n",
      "    qt-5.12.9                  |       h5909a2a_4       106.1 MB  conda-forge\n",
      "    unicodedata2-13.0.0.post2  |   py38h294d835_4         491 KB  conda-forge\n",
      "    ------------------------------------------------------------\n",
      "                                           Total:       179.8 MB\n",
      "\n",
      "The following NEW packages will be INSTALLED:\n",
      "\n",
      "  brotli             conda-forge/win-64::brotli-1.0.9-h8ffe710_6\n",
      "  brotli-bin         conda-forge/win-64::brotli-bin-1.0.9-h8ffe710_6\n",
      "  certifi            conda-forge/win-64::certifi-2021.10.8-py38haa244fe_1\n",
      "  cycler             conda-forge/noarch::cycler-0.11.0-pyhd8ed1ab_0\n",
      "  fonttools          conda-forge/win-64::fonttools-4.28.2-py38h294d835_0\n",
      "  freetype           conda-forge/win-64::freetype-2.10.4-h546665d_1\n",
      "  icu                conda-forge/win-64::icu-68.2-h0e60522_0\n",
      "  jbig               conda-forge/win-64::jbig-2.1-h8d14728_2003\n",
      "  jpeg               conda-forge/win-64::jpeg-9d-h8ffe710_0\n",
      "  kiwisolver         conda-forge/win-64::kiwisolver-1.3.2-py38hbd9d945_1\n",
      "  lcms2              conda-forge/win-64::lcms2-2.12-h2a16943_0\n",
      "  lerc               conda-forge/win-64::lerc-3.0-h0e60522_0\n",
      "  libbrotlicommon    conda-forge/win-64::libbrotlicommon-1.0.9-h8ffe710_6\n",
      "  libbrotlidec       conda-forge/win-64::libbrotlidec-1.0.9-h8ffe710_6\n",
      "  libbrotlienc       conda-forge/win-64::libbrotlienc-1.0.9-h8ffe710_6\n",
      "  libclang           conda-forge/win-64::libclang-11.1.0-default_h5c34c98_1\n",
      "  libdeflate         conda-forge/win-64::libdeflate-1.8-h8ffe710_0\n",
      "  libpng             conda-forge/win-64::libpng-1.6.37-h1d00b33_2\n",
      "  libtiff            conda-forge/win-64::libtiff-4.3.0-hd413186_2\n",
      "  libzlib            conda-forge/win-64::libzlib-1.2.11-h8ffe710_1013\n",
      "  lz4-c              conda-forge/win-64::lz4-c-1.9.3-h8ffe710_1\n",
      "  matplotlib         conda-forge/win-64::matplotlib-3.5.0-py38haa244fe_0\n",
      "  matplotlib-base    conda-forge/win-64::matplotlib-base-3.5.0-py38h1f000d6_0\n",
      "  munkres            conda-forge/noarch::munkres-1.1.4-pyh9f0ad1d_0\n",
      "  olefile            conda-forge/noarch::olefile-0.46-pyh9f0ad1d_1\n",
      "  openjpeg           conda-forge/win-64::openjpeg-2.4.0-hb211442_1\n",
      "  pillow             conda-forge/win-64::pillow-8.4.0-py38h794f750_0\n",
      "  pyqt               conda-forge/win-64::pyqt-5.12.3-py38haa244fe_8\n",
      "  pyqt-impl          conda-forge/win-64::pyqt-impl-5.12.3-py38h885f38d_8\n",
      "  pyqt5-sip          conda-forge/win-64::pyqt5-sip-4.19.18-py38h885f38d_8\n",
      "  pyqtchart          conda-forge/win-64::pyqtchart-5.12-py38h885f38d_8\n",
      "  pyqtwebengine      conda-forge/win-64::pyqtwebengine-5.12.1-py38h885f38d_8\n",
      "  qt                 conda-forge/win-64::qt-5.12.9-h5909a2a_4\n",
      "  tk                 conda-forge/win-64::tk-8.6.11-h8ffe710_1\n",
      "  unicodedata2       conda-forge/win-64::unicodedata2-13.0.0.post2-py38h294d835_4\n",
      "  xz                 conda-forge/win-64::xz-5.2.5-h62dcd97_1\n",
      "  zlib               conda-forge/win-64::zlib-1.2.11-h8ffe710_1013\n",
      "  zstd               conda-forge/win-64::zstd-1.5.0-h6255e5f_0\n",
      "\n",
      "The following packages will be DOWNGRADED:\n",
      "\n",
      "  openssl                                  3.0.0-h8ffe710_2 --> 1.1.1l-h8ffe710_0\n",
      "  python                          3.8.12-h900ac77_2_cpython --> 3.8.12-h7840368_2_cpython\n",
      "\n",
      "\n",
      "\n",
      "Downloading and Extracting Packages\n",
      "\n",
      "libtiff-4.3.0        | 1.1 MB    |            |   0% \n",
      "libtiff-4.3.0        | 1.1 MB    | 1          |   1% \n",
      "libtiff-4.3.0        | 1.1 MB    | #1         |  12% \n",
      "libtiff-4.3.0        | 1.1 MB    | #7         |  18% \n",
      "libtiff-4.3.0        | 1.1 MB    | ##8        |  28% \n",
      "libtiff-4.3.0        | 1.1 MB    | ###2       |  33% \n",
      "libtiff-4.3.0        | 1.1 MB    | #####6     |  56% \n",
      "libtiff-4.3.0        | 1.1 MB    | ######3    |  64% \n",
      "libtiff-4.3.0        | 1.1 MB    | ######9    |  70% \n",
      "libtiff-4.3.0        | 1.1 MB    | ########6  |  86% \n",
      "libtiff-4.3.0        | 1.1 MB    | #########3 |  94% \n",
      "libtiff-4.3.0        | 1.1 MB    | ########## | 100% \n",
      "libtiff-4.3.0        | 1.1 MB    | ########## | 100% \n",
      "\n",
      "munkres-1.1.4        | 12 KB     |            |   0% \n",
      "munkres-1.1.4        | 12 KB     | ########## | 100% \n",
      "munkres-1.1.4        | 12 KB     | ########## | 100% \n",
      "\n",
      "libbrotlicommon-1.0. | 67 KB     |            |   0% \n",
      "libbrotlicommon-1.0. | 67 KB     | ##4        |  24% \n",
      "libbrotlicommon-1.0. | 67 KB     | ########## | 100% \n",
      "libbrotlicommon-1.0. | 67 KB     | ########## | 100% \n",
      "\n",
      "libbrotlienc-1.0.9   | 721 KB    |            |   0% \n",
      "libbrotlienc-1.0.9   | 721 KB    | 2          |   2% \n",
      "libbrotlienc-1.0.9   | 721 KB    | #9         |  20% \n",
      "libbrotlienc-1.0.9   | 721 KB    | ###7       |  38% \n",
      "libbrotlienc-1.0.9   | 721 KB    | #####5     |  56% \n",
      "libbrotlienc-1.0.9   | 721 KB    | #######3   |  73% \n",
      "libbrotlienc-1.0.9   | 721 KB    | #########3 |  93% \n",
      "libbrotlienc-1.0.9   | 721 KB    | ########## | 100% \n",
      "\n",
      "cycler-0.11.0        | 10 KB     |            |   0% \n",
      "cycler-0.11.0        | 10 KB     | ########## | 100% \n",
      "cycler-0.11.0        | 10 KB     | ########## | 100% \n",
      "\n",
      "qt-5.12.9            | 106.1 MB  |            |   0% \n",
      "qt-5.12.9            | 106.1 MB  |            |   0% \n",
      "qt-5.12.9            | 106.1 MB  |            |   0% \n",
      "qt-5.12.9            | 106.1 MB  |            |   0% \n",
      "qt-5.12.9            | 106.1 MB  |            |   0% \n",
      "qt-5.12.9            | 106.1 MB  |            |   0% \n",
      "qt-5.12.9            | 106.1 MB  |            |   1% \n",
      "qt-5.12.9            | 106.1 MB  |            |   1% \n",
      "qt-5.12.9            | 106.1 MB  |            |   1% \n",
      "qt-5.12.9            | 106.1 MB  |            |   1% \n",
      "qt-5.12.9            | 106.1 MB  | 1          |   1% \n",
      "qt-5.12.9            | 106.1 MB  | 1          |   1% \n",
      "qt-5.12.9            | 106.1 MB  | 1          |   1% \n",
      "qt-5.12.9            | 106.1 MB  | 1          |   2% \n",
      "qt-5.12.9            | 106.1 MB  | 1          |   2% \n",
      "qt-5.12.9            | 106.1 MB  | 2          |   2% \n",
      "qt-5.12.9            | 106.1 MB  | 2          |   3% \n",
      "qt-5.12.9            | 106.1 MB  | 2          |   3% \n",
      "qt-5.12.9            | 106.1 MB  | 3          |   3% \n",
      "qt-5.12.9            | 106.1 MB  | 3          |   3% \n",
      "qt-5.12.9            | 106.1 MB  | 3          |   4% \n",
      "qt-5.12.9            | 106.1 MB  | 3          |   4% \n",
      "qt-5.12.9            | 106.1 MB  | 4          |   4% \n",
      "qt-5.12.9            | 106.1 MB  | 4          |   4% \n",
      "qt-5.12.9            | 106.1 MB  | 4          |   5% \n",
      "qt-5.12.9            | 106.1 MB  | 5          |   5% \n",
      "qt-5.12.9            | 106.1 MB  | 5          |   5% \n",
      "qt-5.12.9            | 106.1 MB  | 5          |   6% \n",
      "qt-5.12.9            | 106.1 MB  | 5          |   6% \n",
      "qt-5.12.9            | 106.1 MB  | 6          |   6% \n",
      "qt-5.12.9            | 106.1 MB  | 6          |   7% \n",
      "qt-5.12.9            | 106.1 MB  | 7          |   7% \n",
      "qt-5.12.9            | 106.1 MB  | 8          |   8% \n",
      "qt-5.12.9            | 106.1 MB  | 8          |   9% \n",
      "qt-5.12.9            | 106.1 MB  | 9          |   9% \n",
      "qt-5.12.9            | 106.1 MB  | 9          |  10% \n",
      "qt-5.12.9            | 106.1 MB  | #          |  10% \n",
      "qt-5.12.9            | 106.1 MB  | #          |  11% \n",
      "qt-5.12.9            | 106.1 MB  | #          |  11% \n",
      "qt-5.12.9            | 106.1 MB  | #1         |  11% \n",
      "qt-5.12.9            | 106.1 MB  | #1         |  12% \n",
      "qt-5.12.9            | 106.1 MB  | #2         |  12% \n",
      "qt-5.12.9            | 106.1 MB  | #2         |  13% \n",
      "qt-5.12.9            | 106.1 MB  | #3         |  13% \n",
      "qt-5.12.9            | 106.1 MB  | #3         |  14% \n",
      "qt-5.12.9            | 106.1 MB  | #4         |  15% \n",
      "qt-5.12.9            | 106.1 MB  | #5         |  15% \n",
      "qt-5.12.9            | 106.1 MB  | #5         |  16% \n",
      "qt-5.12.9            | 106.1 MB  | #6         |  16% \n",
      "qt-5.12.9            | 106.1 MB  | #7         |  17% \n",
      "qt-5.12.9            | 106.1 MB  | #7         |  18% \n",
      "qt-5.12.9            | 106.1 MB  | #8         |  18% \n",
      "qt-5.12.9            | 106.1 MB  | #9         |  19% \n",
      "qt-5.12.9            | 106.1 MB  | ##         |  20% \n",
      "qt-5.12.9            | 106.1 MB  | ##         |  21% "
     ]
    }
   ],
   "source": [
    "!conda install --yes numpy\n",
    "!conda install --yes -c conda-forge matplotlib "
   ]
  },
  {
   "cell_type": "code",
   "execution_count": 14,
   "metadata": {},
   "outputs": [],
   "source": [
    "import numpy as np\n",
    "?np"
   ]
  },
  {
   "cell_type": "markdown",
   "metadata": {},
   "source": [
    "## 4. Gráficos dentro del entorno."
   ]
  },
  {
   "cell_type": "code",
   "execution_count": 15,
   "metadata": {},
   "outputs": [
    {
     "data": {
      "text/plain": [
       "<matplotlib.collections.PathCollection at 0x213abdef3d0>"
      ]
     },
     "execution_count": 15,
     "metadata": {},
     "output_type": "execute_result"
    },
    {
     "data": {
      "image/png": "[encoded data removed]",
      "text/plain": [
       "<Figure size 432x288 with 1 Axes>"
      ]
     },
     "metadata": {
      "needs_background": "light"
     },
     "output_type": "display_data"
    }
   ],
   "source": [
    "import matplotlib.pyplot as plt\n",
    "%matplotlib inline\n",
    "\n",
    "plt.scatter([i for i in range(10)], [i**2 for i in range(10)])"
   ]
  },
  {
   "cell_type": "markdown",
   "metadata": {},
   "source": [
    "## 5. \"Comandos Mágicos\"\n",
    "Comandos como ```%matplotlib inline```, expandiendo las posibilidades del entorno y simplificando la vida"
   ]
  },
  {
   "cell_type": "code",
   "execution_count": 20,
   "metadata": {
    "scrolled": true
   },
   "outputs": [
    {
     "data": {
      "application/json": {
       "cell": {
        "!": "OSMagics",
        "HTML": "Other",
        "SVG": "Other",
        "bash": "Other",
        "capture": "ExecutionMagics",
        "cmd": "Other",
        "debug": "ExecutionMagics",
        "file": "Other",
        "html": "DisplayMagics",
        "javascript": "DisplayMagics",
        "js": "DisplayMagics",
        "latex": "DisplayMagics",
        "markdown": "DisplayMagics",
        "perl": "Other",
        "prun": "ExecutionMagics",
        "pypy": "Other",
        "python": "Other",
        "python2": "Other",
        "python3": "Other",
        "ruby": "Other",
        "script": "ScriptMagics",
        "sh": "Other",
        "svg": "DisplayMagics",
        "sx": "OSMagics",
        "system": "OSMagics",
        "time": "ExecutionMagics",
        "timeit": "ExecutionMagics",
        "writefile": "OSMagics"
       },
       "line": {
        "alias": "OSMagics",
        "alias_magic": "BasicMagics",
        "autoawait": "AsyncMagics",
        "autocall": "AutoMagics",
        "automagic": "AutoMagics",
        "autosave": "KernelMagics",
        "bookmark": "OSMagics",
        "cd": "OSMagics",
        "clear": "KernelMagics",
        "cls": "KernelMagics",
        "colors": "BasicMagics",
        "conda": "PackagingMagics",
        "config": "ConfigMagics",
        "connect_info": "KernelMagics",
        "copy": "Other",
        "ddir": "Other",
        "debug": "ExecutionMagics",
        "dhist": "OSMagics",
        "dirs": "OSMagics",
        "doctest_mode": "BasicMagics",
        "echo": "Other",
        "ed": "Other",
        "edit": "KernelMagics",
        "env": "OSMagics",
        "gui": "BasicMagics",
        "hist": "Other",
        "history": "HistoryMagics",
        "killbgscripts": "ScriptMagics",
        "ldir": "Other",
        "less": "KernelMagics",
        "load": "CodeMagics",
        "load_ext": "ExtensionMagics",
        "loadpy": "CodeMagics",
        "logoff": "LoggingMagics",
        "logon": "LoggingMagics",
        "logstart": "LoggingMagics",
        "logstate": "LoggingMagics",
        "logstop": "LoggingMagics",
        "ls": "Other",
        "lsmagic": "BasicMagics",
        "macro": "ExecutionMagics",
        "magic": "BasicMagics",
        "matplotlib": "PylabMagics",
        "mkdir": "Other",
        "more": "KernelMagics",
        "notebook": "BasicMagics",
        "page": "BasicMagics",
        "pastebin": "CodeMagics",
        "pdb": "ExecutionMagics",
        "pdef": "NamespaceMagics",
        "pdoc": "NamespaceMagics",
        "pfile": "NamespaceMagics",
        "pinfo": "NamespaceMagics",
        "pinfo2": "NamespaceMagics",
        "pip": "PackagingMagics",
        "popd": "OSMagics",
        "pprint": "BasicMagics",
        "precision": "BasicMagics",
        "prun": "ExecutionMagics",
        "psearch": "NamespaceMagics",
        "psource": "NamespaceMagics",
        "pushd": "OSMagics",
        "pwd": "OSMagics",
        "pycat": "OSMagics",
        "pylab": "PylabMagics",
        "qtconsole": "KernelMagics",
        "quickref": "BasicMagics",
        "recall": "HistoryMagics",
        "rehashx": "OSMagics",
        "reload_ext": "ExtensionMagics",
        "ren": "Other",
        "rep": "Other",
        "rerun": "HistoryMagics",
        "reset": "NamespaceMagics",
        "reset_selective": "NamespaceMagics",
        "rmdir": "Other",
        "run": "ExecutionMagics",
        "save": "CodeMagics",
        "sc": "OSMagics",
        "set_env": "OSMagics",
        "store": "StoreMagics",
        "sx": "OSMagics",
        "system": "OSMagics",
        "tb": "ExecutionMagics",
        "time": "ExecutionMagics",
        "timeit": "ExecutionMagics",
        "unalias": "OSMagics",
        "unload_ext": "ExtensionMagics",
        "who": "NamespaceMagics",
        "who_ls": "NamespaceMagics",
        "whos": "NamespaceMagics",
        "xdel": "NamespaceMagics",
        "xmode": "BasicMagics"
       }
      },
      "text/plain": [
       "Available line magics:\n",
       "%alias  %alias_magic  %autoawait  %autocall  %automagic  %autosave  %bookmark  %cd  %clear  %cls  %colors  %conda  %config  %connect_info  %copy  %ddir  %debug  %dhist  %dirs  %doctest_mode  %echo  %ed  %edit  %env  %gui  %hist  %history  %killbgscripts  %ldir  %less  %load  %load_ext  %loadpy  %logoff  %logon  %logstart  %logstate  %logstop  %ls  %lsmagic  %macro  %magic  %matplotlib  %mkdir  %more  %notebook  %page  %pastebin  %pdb  %pdef  %pdoc  %pfile  %pinfo  %pinfo2  %pip  %popd  %pprint  %precision  %prun  %psearch  %psource  %pushd  %pwd  %pycat  %pylab  %qtconsole  %quickref  %recall  %rehashx  %reload_ext  %ren  %rep  %rerun  %reset  %reset_selective  %rmdir  %run  %save  %sc  %set_env  %store  %sx  %system  %tb  %time  %timeit  %unalias  %unload_ext  %who  %who_ls  %whos  %xdel  %xmode\n",
       "\n",
       "Available cell magics:\n",
       "%%!  %%HTML  %%SVG  %%bash  %%capture  %%cmd  %%debug  %%file  %%html  %%javascript  %%js  %%latex  %%markdown  %%perl  %%prun  %%pypy  %%python  %%python2  %%python3  %%ruby  %%script  %%sh  %%svg  %%sx  %%system  %%time  %%timeit  %%writefile\n",
       "\n",
       "Automagic is ON, % prefix IS NOT needed for line magics."
      ]
     },
     "execution_count": 20,
     "metadata": {},
     "output_type": "execute_result"
    }
   ],
   "source": [
    "# Lista de \"comandos mágicos\" disponibles\n",
    "%lsmagic"
   ]
  },
  {
   "cell_type": "markdown",
   "metadata": {},
   "source": [
    "## 6. Acceso directo a la línea de comandos"
   ]
  },
  {
   "cell_type": "code",
   "execution_count": 21,
   "metadata": {},
   "outputs": [
    {
     "name": "stdout",
     "output_type": "stream",
     "text": [
      " Volume in drive C is Windows\n",
      " Volume Serial Number is 584A-EC76\n",
      "\n",
      " Directory of C:\\Users\\ladin\\Downloads\\panama\\Dia_3\n",
      "\n",
      "11/24/2021  06:29 PM    <DIR>          .\n",
      "11/24/2021  06:03 PM    <DIR>          ..\n",
      "11/24/2021  06:05 PM    <DIR>          .ipynb_checkpoints\n",
      "11/24/2021  06:29 PM            37,054 1.Intro_python_jupyter_notebook.ipynb\n",
      "11/24/2021  05:54 PM             3,787 10.Radar_data_structure.ipynb\n",
      "11/24/2021  05:54 PM             2,633 2.libraries_test.ipynb\n",
      "11/24/2021  05:54 PM             5,595 3.More_JN.ipynb\n",
      "11/24/2021  05:54 PM         4,489,965 3.Python.pptx\n",
      "11/24/2021  05:54 PM             4,793 4.Logic_operators.ipynb\n",
      "11/24/2021  05:54 PM             6,624 5.data_types.ipynb\n",
      "11/24/2021  05:54 PM             9,601 6.data_structures.ipynb\n",
      "11/24/2021  05:54 PM             2,135 7.flow_staments.ipynb\n",
      "11/24/2021  05:54 PM             4,817 8.Functions_Imports.ipynb\n",
      "11/24/2021  05:54 PM            13,857 9.pyart_reading_and_plotting_data.ipynb\n",
      "11/24/2021  06:03 PM    <DIR>          data\n",
      "11/24/2021  06:03 PM    <DIR>          imagenes\n",
      "11/24/2021  05:54 PM               212 section2_answer.py\n",
      "11/24/2021  05:54 PM                98 section3_answer.py\n",
      "11/24/2021  05:54 PM                87 section4_answer.py\n",
      "11/24/2021  05:54 PM               205 section_1_answer.py\n",
      "11/24/2021  05:54 PM               488 section_2_answer.py\n",
      "              16 File(s)      4,581,951 bytes\n",
      "               5 Dir(s)  127,504,982,016 bytes free\n"
     ]
    }
   ],
   "source": [
    "!dir"
   ]
  },
  {
   "cell_type": "markdown",
   "metadata": {},
   "source": [
    "## 7. $\\LaTeX$\n",
    "\n",
    "$$ P(A \\mid B) = \\frac{P(B \\mid A) \\, P(A)}{P(B)} $$"
   ]
  },
  {
   "cell_type": "markdown",
   "metadata": {},
   "source": [
    "## 8. El estándar en el campo de los cálculos reproducibles.\n",
    "\n",
    "+ Fácil de crear\n",
    "+ Fácil de distribuir\n",
    "+ Compatible con Github Viewer\n",
    "\n",
    "** Puedes escribir una publicación científica completamente en el mismo entorno **"
   ]
  },
  {
   "cell_type": "markdown",
   "metadata": {},
   "source": [
    "<img src=\"https://jupyter.org/assets/jupyterpreview.png\">"
   ]
  }
 ],
 "metadata": {
  "kernelspec": {
   "display_name": "Python 3 (ipykernel)",
   "language": "python",
   "name": "python3"
  },
  "language_info": {
   "codemirror_mode": {
    "name": "ipython",
    "version": 3
   },
   "file_extension": ".py",
   "mimetype": "text/x-python",
   "name": "python",
   "nbconvert_exporter": "python",
   "pygments_lexer": "ipython3",
   "version": "3.8.12"
  }
 },
 "nbformat": 4,
 "nbformat_minor": 2
}
