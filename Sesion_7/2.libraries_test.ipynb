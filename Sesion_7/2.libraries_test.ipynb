{
 "cells": [
  {
   "cell_type": "code",
   "execution_count": null,
   "metadata": {
    "scrolled": true
   },
   "outputs": [],
   "source": [
    "import sys # libreria para el uso de comandos del sistema\n",
    "import pandas as pd # Libreria para manejar dataframes (Excel o csv)\n",
    "import numpy as np # linreria para manejar arreglos\n",
    "import matplotlib.pyplot as plt # libreria para generar salidas gráficas"
   ]
  },
  {
   "cell_type": "code",
   "execution_count": null,
   "metadata": {},
   "outputs": [],
   "source": [
    "!conda install --yes --prefix {sys.prefix} -c anaconda pandas\n"
   ]
  },
  {
   "cell_type": "code",
   "execution_count": null,
   "metadata": {},
   "outputs": [],
   "source": [
    "import pandas as pd\n",
    "import numpy as np\n",
    "import matplotlib.pyplot as plt\n"
   ]
  },
  {
   "cell_type": "code",
   "execution_count": null,
   "metadata": {
    "scrolled": true
   },
   "outputs": [],
   "source": [
    "try:\n",
    "    import pyart # Libreria para el manejo de datos de radar\n",
    "except ModuleNotFoundError as e:\n",
    "    print('No has instalado pyart o no quedó bien instalado intentalo nuevamente') "
   ]
  },
  {
   "cell_type": "markdown",
   "metadata": {},
   "source": [
    "# Debemos instalar la libreria de manejo de datos de radar\n",
    "\n",
    "###  !conda install --yes --prefix {sys.prefix} -c conda-forge arm_pyart\n",
    "\n"
   ]
  },
  {
   "cell_type": "code",
   "execution_count": null,
   "metadata": {},
   "outputs": [],
   "source": [
    " !conda install --yes --prefix {sys.prefix} -c conda-forge arm_pyart"
   ]
  },
  {
   "cell_type": "markdown",
   "metadata": {},
   "source": [
    "# intentemos de nuevo\n"
   ]
  },
  {
   "cell_type": "code",
   "execution_count": null,
   "metadata": {},
   "outputs": [],
   "source": [
    "try:\n",
    "    import pyart\n",
    "    print('instalado correctamente!!!')\n",
    "except ModuleNotFoundError as e:\n",
    "    print('No has instalado pyart o no quedó bien instalado intentalo nuevamente') "
   ]
  },
  {
   "cell_type": "code",
   "execution_count": null,
   "metadata": {},
   "outputs": [],
   "source": []
  }
 ],
 "metadata": {
  "kernelspec": {
   "display_name": "Python 3 (ipykernel)",
   "language": "python",
   "name": "python3"
  },
  "language_info": {
   "codemirror_mode": {
    "name": "ipython",
    "version": 3
   },
   "file_extension": ".py",
   "mimetype": "text/x-python",
   "name": "python",
   "nbconvert_exporter": "python",
   "pygments_lexer": "ipython3",
   "version": "3.8.12"
  }
 },
 "nbformat": 4,
 "nbformat_minor": 2
}
