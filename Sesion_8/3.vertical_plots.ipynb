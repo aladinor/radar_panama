{
 "cells": [
  {
   "cell_type": "code",
   "execution_count": 1,
   "metadata": {},
   "outputs": [
    {
     "name": "stdout",
     "output_type": "stream",
     "text": [
      "\n",
      "## You are using the Python ARM Radar Toolkit (Py-ART), an open source\n",
      "## library for working with weather radar data. Py-ART is partly\n",
      "## supported by the U.S. Department of Energy as part of the Atmospheric\n",
      "## Radiation Measurement (ARM) Climate Research Facility, an Office of\n",
      "## Science user facility.\n",
      "##\n",
      "## If you use this software to prepare a publication, please cite:\n",
      "##\n",
      "##     JJ Helmus and SM Collis, JORS 2016, doi: 10.5334/jors.119\n",
      "\n"
     ]
    }
   ],
   "source": [
    "import numpy as np\n",
    "import matplotlib.pyplot as plt\n",
    "import cartopy.crs as ccrs\n",
    "import pyart"
   ]
  },
  {
   "cell_type": "code",
   "execution_count": 2,
   "metadata": {},
   "outputs": [
    {
     "name": "stderr",
     "output_type": "stream",
     "text": [
      "C:\\ProgramData\\Anaconda3\\lib\\site-packages\\pyart\\io\\sigmet.py:147: RuntimeWarning: invalid value encountered in sqrt\n",
      "  sigmet_data, sigmet_metadata = sigmetfile.read_data(full_xhdr=full_xhdr)\n"
     ]
    }
   ],
   "source": [
    "# Read in the gridded file, create GridMapDisplay object\n",
    "filename = './data/CAR190917171051.RAW6KYV'\n",
    "# filename = './data/TAB191023200503.RAWD9FF'\n",
    "\n",
    "radar = pyart.io.read(filename)\n"
   ]
  },
  {
   "cell_type": "code",
   "execution_count": 4,
   "metadata": {},
   "outputs": [
    {
     "name": "stdout",
     "output_type": "stream",
     "text": [
      "Using matplotlib backend: Qt5Agg\n"
     ]
    }
   ],
   "source": [
    "%matplotlib\n",
    "fig = plt.figure(figsize=[12, 8])\n",
    "display = pyart.graph.RadarMapDisplay(radar)\n",
    "display.plot_ppi_map('reflectivity', sweep=0, resolution='50m',\n",
    "                     vmin=-8, vmax=64,\n",
    "                     projection=ccrs.PlateCarree(), cmap='pyart_NWSRef')\n",
    "display.plot_range_ring(radar.range['data'][-1]/1000)\n",
    "plt.show()\n",
    "\n",
    "\n"
   ]
  },
  {
   "cell_type": "code",
   "execution_count": 5,
   "metadata": {},
   "outputs": [],
   "source": [
    "xsect = pyart.util.cross_section_ppi(radar, [90, 180])\n",
    "\n",
    "display2 = pyart.graph.RadarDisplay(xsect)\n",
    "\n",
    "fig = plt.figure(figsize=[10,12])\n",
    "\n",
    "ax = fig.add_subplot(211)\n",
    "display2.plot('reflectivity', 0, vmin=-32, vmax=64.)\n",
    "\n",
    "ax = fig.add_subplot(212)\n",
    "display2.plot('reflectivity', 1, vmin=-32, vmax=64.)\n",
    "\n",
    "plt.tight_layout()\n",
    "plt.show()"
   ]
  },
  {
   "cell_type": "code",
   "execution_count": 6,
   "metadata": {},
   "outputs": [],
   "source": [
    "fig = plt.figure(figsize=[15,7])\n",
    "\n",
    "map_panel_axes = [0.05, 0.05, .4, .80]\n",
    "x_cut_panel_axes = [0.55, 0.10, .4, .25]\n",
    "y_cut_panel_axes = [0.55, 0.50, .4, .25]\n",
    "\n",
    "projection = ccrs.PlateCarree()\n",
    "\n",
    "ax1 = fig.add_axes(map_panel_axes, projection=projection)\n",
    "display = pyart.graph.RadarMapDisplay(radar)\n",
    "display.plot_ppi_map('reflectivity', sweep=0, resolution='50m',\n",
    "                     vmin=-8, vmax=64,\n",
    "                     projection=ccrs.PlateCarree(), cmap='pyart_NWSRef')\n",
    "                     \n",
    "display.plot_line_xy(np.array([0, 240000.0]), np.array([0.0, 0.0]),\n",
    "                     line_style='k--')\n",
    "\n",
    "display.plot_line_xy(np.array([0., 0.]), np.array([0.0, -240000.0]),\n",
    "                     line_style='k--')\n",
    "\n",
    "ax2 = fig.add_axes(y_cut_panel_axes)\n",
    "display2.plot('reflectivity', 0, vmin=-32, vmax=64.)\n",
    "ax2.set_ylim(0, 20)\n",
    "             \n",
    "ax3 = fig.add_axes(x_cut_panel_axes)\n",
    "display2.plot('reflectivity', 1, vmin=-32, vmax=64.)\n",
    "ax3.set_ylim(0, 20)\n",
    "\n",
    "\n",
    "plt.show()"
   ]
  },
  {
   "cell_type": "code",
   "execution_count": null,
   "metadata": {},
   "outputs": [],
   "source": []
  },
  {
   "cell_type": "code",
   "execution_count": null,
   "metadata": {},
   "outputs": [],
   "source": []
  },
  {
   "cell_type": "code",
   "execution_count": null,
   "metadata": {},
   "outputs": [],
   "source": []
  }
 ],
 "metadata": {
  "kernelspec": {
   "display_name": "Python 3",
   "language": "python",
   "name": "python3"
  },
  "language_info": {
   "codemirror_mode": {
    "name": "ipython",
    "version": 3
   },
   "file_extension": ".py",
   "mimetype": "text/x-python",
   "name": "python",
   "nbconvert_exporter": "python",
   "pygments_lexer": "ipython3",
   "version": "3.7.4"
  }
 },
 "nbformat": 4,
 "nbformat_minor": 2
}
