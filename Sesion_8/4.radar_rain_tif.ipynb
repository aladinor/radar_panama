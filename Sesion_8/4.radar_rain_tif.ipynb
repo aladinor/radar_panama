{
 "cells": [
  {
   "cell_type": "code",
   "execution_count": 5,
   "metadata": {
    "scrolled": true
   },
   "outputs": [],
   "source": [
    "import pyart\n",
    "import os\n",
    "# from netCDF4 import num2date\n"
   ]
  },
  {
   "cell_type": "code",
   "execution_count": null,
   "metadata": {},
   "outputs": [],
   "source": []
  },
  {
   "cell_type": "code",
   "execution_count": 6,
   "metadata": {},
   "outputs": [],
   "source": [
    "def get_alt_lon_lat(radar):\n",
    "    \"\"\"\n",
    "    :param radar: radar object\n",
    "    :return: max and min limits of radar grid (x, y, z)\n",
    "    \"\"\"\n",
    "    min_ix = pyart.core.Radar.get_gate_x_y_z(radar, 0)[0].min().astype('int')\n",
    "    max_ix = pyart.core.Radar.get_gate_x_y_z(radar, 0)[0].max().astype('int')\n",
    "    min_iy = pyart.core.Radar.get_gate_x_y_z(radar, 0)[1].min().astype('int')\n",
    "    max_iy = pyart.core.Radar.get_gate_x_y_z(radar, 0)[1].max().astype('int')\n",
    "    min_iz = pyart.core.Radar.get_gate_x_y_z(radar, 0)[2].min().astype('int')\n",
    "    max_iz = pyart.core.Radar.get_gate_x_y_z(radar, 0)[2].max().astype('int')\n",
    "    return min_ix, max_ix, min_iy, max_iy, min_iz, max_iz"
   ]
  },
  {
   "cell_type": "code",
   "execution_count": 7,
   "metadata": {},
   "outputs": [],
   "source": [
    "def rain_tiff(radar_object):\n",
    "    \"\"\"\n",
    "    :type radar_object: radar object\n",
    "    :param radar_object: path to radar files\n",
    "    :return: radar rainfall rate geotiff\n",
    "    \"\"\"\n",
    "\n",
    "    radar = radar_object\n",
    "    try:\n",
    "        a = radar.metadata['instrument_name'].decode('utf-8')\n",
    "    except AttributeError:\n",
    "        a = radar.metadata['instrument_name']\n",
    "\n",
    "    var2filter = 'cross_correlation_coefficient'\n",
    "    thres_filter = 0.8\n",
    "    var2plot = 'reflectivity'\n",
    "\n",
    "    min_ix, max_ix, min_iy, max_iy, min_iz, max_iz = get_alt_lon_lat(radar)\n",
    "    shape_xy = (max_ix * 2 / (radar.range['data'][1] - radar.range['data'][0])).astype('int')\n",
    "    shape_z = (max_iz / 500).astype('int')\n",
    "\n",
    "    rain_z = pyart.retrieve.est_rain_rate_z(radar, refl_field=var2plot, rr_field='rain_z')\n",
    "    radar.add_field('rain_z', rain_z)\n",
    "\n",
    "    grid = pyart.map.grid_from_radars((radar,), gatefilters=None,\n",
    "                                      grid_shape=(shape_z + 1, shape_xy + 1, shape_xy + 1),\n",
    "                                      grid_limits=((min_iz, max_iz), (min_ix, max_ix), (min_iy, max_iy)),\n",
    "                                      fields=['rain_z'])\n",
    "\n",
    "    folder_save = './'\n",
    "\n",
    "    if os.path.exists(folder_save):\n",
    "        pass\n",
    "    else:\n",
    "        make_dir(folder_save)\n",
    "\n",
    "    name_save = 'radar_rain_st'\n",
    "    file_save = '{0}/{1}.tif'.format(folder_save, name_save)\n",
    "\n",
    "    pyart.io.write_grid_geotiff(grid, file_save, 'rain_z', warp=True, use_doublequotes=True)\n"
   ]
  },
  {
   "cell_type": "code",
   "execution_count": 8,
   "metadata": {},
   "outputs": [
    {
     "name": "stderr",
     "output_type": "stream",
     "text": [
      "C:\\ProgramData\\Anaconda3\\lib\\site-packages\\pyart\\io\\sigmet.py:147: RuntimeWarning: invalid value encountered in sqrt\n",
      "  sigmet_data, sigmet_metadata = sigmetfile.read_data(full_xhdr=full_xhdr)\n",
      "C:\\ProgramData\\Anaconda3\\lib\\site-packages\\pyart\\map\\gates_to_grid.py:177: DeprecationWarning: Barnes weighting function is deprecated. Please use Barnes 2 to be consistent with Pauley and Wu 1990.\n",
      "  \" Pauley and Wu 1990.\", DeprecationWarning)\n",
      "C:\\ProgramData\\Anaconda3\\lib\\site-packages\\pyart\\filters\\gatefilter.py:626: RuntimeWarning: invalid value encountered in less\n",
      "  marked = self._get_fdata(field) < value\n"
     ]
    },
    {
     "ename": "MissingOptionalDependency",
     "evalue": "GDAL not detected, GeoTIFF output failure!",
     "output_type": "error",
     "traceback": [
      "\u001b[1;31m---------------------------------------------------------------------------\u001b[0m",
      "\u001b[1;31mMissingOptionalDependency\u001b[0m                 Traceback (most recent call last)",
      "\u001b[1;32m<ipython-input-8-9409ba5e188f>\u001b[0m in \u001b[0;36m<module>\u001b[1;34m\u001b[0m\n\u001b[0;32m      1\u001b[0m \u001b[0mradar\u001b[0m \u001b[1;33m=\u001b[0m \u001b[0mpyart\u001b[0m\u001b[1;33m.\u001b[0m\u001b[0mio\u001b[0m\u001b[1;33m.\u001b[0m\u001b[0mread\u001b[0m\u001b[1;33m(\u001b[0m\u001b[1;34m'./data/CAR190917171051.RAW6KYV'\u001b[0m\u001b[1;33m)\u001b[0m\u001b[1;33m\u001b[0m\u001b[1;33m\u001b[0m\u001b[0m\n\u001b[1;32m----> 2\u001b[1;33m \u001b[0mrain_tiff\u001b[0m\u001b[1;33m(\u001b[0m\u001b[0mradar\u001b[0m\u001b[1;33m)\u001b[0m\u001b[1;33m\u001b[0m\u001b[1;33m\u001b[0m\u001b[0m\n\u001b[0m",
      "\u001b[1;32m<ipython-input-7-4bc980018407>\u001b[0m in \u001b[0;36mrain_tiff\u001b[1;34m(radar_object)\u001b[0m\n\u001b[0;32m     38\u001b[0m     \u001b[0mfile_save\u001b[0m \u001b[1;33m=\u001b[0m \u001b[1;34m'{0}/{1}.tif'\u001b[0m\u001b[1;33m.\u001b[0m\u001b[0mformat\u001b[0m\u001b[1;33m(\u001b[0m\u001b[0mfolder_save\u001b[0m\u001b[1;33m,\u001b[0m \u001b[0mname_save\u001b[0m\u001b[1;33m)\u001b[0m\u001b[1;33m\u001b[0m\u001b[1;33m\u001b[0m\u001b[0m\n\u001b[0;32m     39\u001b[0m \u001b[1;33m\u001b[0m\u001b[0m\n\u001b[1;32m---> 40\u001b[1;33m     \u001b[0mpyart\u001b[0m\u001b[1;33m.\u001b[0m\u001b[0mio\u001b[0m\u001b[1;33m.\u001b[0m\u001b[0mwrite_grid_geotiff\u001b[0m\u001b[1;33m(\u001b[0m\u001b[0mgrid\u001b[0m\u001b[1;33m,\u001b[0m \u001b[0mfile_save\u001b[0m\u001b[1;33m,\u001b[0m \u001b[1;34m'rain_z'\u001b[0m\u001b[1;33m,\u001b[0m \u001b[0mwarp\u001b[0m\u001b[1;33m=\u001b[0m\u001b[1;32mTrue\u001b[0m\u001b[1;33m,\u001b[0m \u001b[0muse_doublequotes\u001b[0m\u001b[1;33m=\u001b[0m\u001b[1;32mTrue\u001b[0m\u001b[1;33m)\u001b[0m\u001b[1;33m\u001b[0m\u001b[1;33m\u001b[0m\u001b[0m\n\u001b[0m",
      "\u001b[1;32mC:\\ProgramData\\Anaconda3\\lib\\site-packages\\pyart\\io\\output_to_geotiff.py\u001b[0m in \u001b[0;36mwrite_grid_geotiff\u001b[1;34m(grid, filename, field, rgb, level, cmap, vmin, vmax, color_levels, warp, sld, use_doublequotes)\u001b[0m\n\u001b[0;32m    102\u001b[0m     \u001b[1;32mif\u001b[0m \u001b[1;32mnot\u001b[0m \u001b[0mIMPORT_FLAG\u001b[0m\u001b[1;33m:\u001b[0m\u001b[1;33m\u001b[0m\u001b[1;33m\u001b[0m\u001b[0m\n\u001b[0;32m    103\u001b[0m         raise MissingOptionalDependency(\n\u001b[1;32m--> 104\u001b[1;33m             'GDAL not detected, GeoTIFF output failure!')\n\u001b[0m\u001b[0;32m    105\u001b[0m \u001b[1;33m\u001b[0m\u001b[0m\n\u001b[0;32m    106\u001b[0m     \u001b[1;32mif\u001b[0m \u001b[0mfield\u001b[0m \u001b[1;32mnot\u001b[0m \u001b[1;32min\u001b[0m \u001b[0mgrid\u001b[0m\u001b[1;33m.\u001b[0m\u001b[0mfields\u001b[0m\u001b[1;33m.\u001b[0m\u001b[0mkeys\u001b[0m\u001b[1;33m(\u001b[0m\u001b[1;33m)\u001b[0m\u001b[1;33m:\u001b[0m\u001b[1;33m\u001b[0m\u001b[1;33m\u001b[0m\u001b[0m\n",
      "\u001b[1;31mMissingOptionalDependency\u001b[0m: GDAL not detected, GeoTIFF output failure!"
     ]
    }
   ],
   "source": [
    "radar = pyart.io.read('./data/CAR190917171051.RAW6KYV')\n",
    "rain_tiff(radar)"
   ]
  },
  {
   "cell_type": "code",
   "execution_count": null,
   "metadata": {},
   "outputs": [],
   "source": []
  },
  {
   "cell_type": "code",
   "execution_count": null,
   "metadata": {},
   "outputs": [],
   "source": []
  }
 ],
 "metadata": {
  "kernelspec": {
   "display_name": "Python 3",
   "language": "python",
   "name": "python3"
  },
  "language_info": {
   "codemirror_mode": {
    "name": "ipython",
    "version": 3
   },
   "file_extension": ".py",
   "mimetype": "text/x-python",
   "name": "python",
   "nbconvert_exporter": "python",
   "pygments_lexer": "ipython3",
   "version": "3.7.4"
  }
 },
 "nbformat": 4,
 "nbformat_minor": 2
}
