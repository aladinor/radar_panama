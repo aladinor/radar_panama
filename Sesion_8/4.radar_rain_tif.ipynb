{
 "cells": [
  {
   "cell_type": "code",
   "execution_count": 1,
   "metadata": {
    "scrolled": true
   },
   "outputs": [
    {
     "name": "stdout",
     "output_type": "stream",
     "text": [
      "\n",
      "## You are using the Python ARM Radar Toolkit (Py-ART), an open source\n",
      "## library for working with weather radar data. Py-ART is partly\n",
      "## supported by the U.S. Department of Energy as part of the Atmospheric\n",
      "## Radiation Measurement (ARM) Climate Research Facility, an Office of\n",
      "## Science user facility.\n",
      "##\n",
      "## If you use this software to prepare a publication, please cite:\n",
      "##\n",
      "##     JJ Helmus and SM Collis, JORS 2016, doi: 10.5334/jors.119\n",
      "\n",
      "ERROR! Session/line number was not unique in database. History logging moved to new session 301\n"
     ]
    }
   ],
   "source": [
    "import pyart\n",
    "import os\n",
    "import sys\n",
    "# from netCDF4 import num2date\n"
   ]
  },
  {
   "cell_type": "code",
   "execution_count": 2,
   "metadata": {},
   "outputs": [],
   "source": [
    "# !conda install --yes --prefix {sys.prefix} -c conda-forge gdal"
   ]
  },
  {
   "cell_type": "code",
   "execution_count": null,
   "metadata": {},
   "outputs": [],
   "source": []
  },
  {
   "cell_type": "code",
   "execution_count": 3,
   "metadata": {},
   "outputs": [],
   "source": [
    "def get_alt_lon_lat(radar):\n",
    "    \"\"\"\n",
    "    :param radar: radar object\n",
    "    :return: max and min limits of radar grid (x, y, z)\n",
    "    \"\"\"\n",
    "    min_ix = pyart.core.Radar.get_gate_x_y_z(radar, 0)[0].min().astype('int')\n",
    "    max_ix = pyart.core.Radar.get_gate_x_y_z(radar, 0)[0].max().astype('int')\n",
    "    min_iy = pyart.core.Radar.get_gate_x_y_z(radar, 0)[1].min().astype('int')\n",
    "    max_iy = pyart.core.Radar.get_gate_x_y_z(radar, 0)[1].max().astype('int')\n",
    "    min_iz = pyart.core.Radar.get_gate_x_y_z(radar, 0)[2].min().astype('int')\n",
    "    max_iz = pyart.core.Radar.get_gate_x_y_z(radar, 0)[2].max().astype('int')\n",
    "    return min_ix, max_ix, min_iy, max_iy, min_iz, max_iz"
   ]
  },
  {
   "cell_type": "code",
   "execution_count": 4,
   "metadata": {},
   "outputs": [],
   "source": [
    "def rain_tiff(radar_object):\n",
    "    \"\"\"\n",
    "    :type radar_object: radar object\n",
    "    :param radar_object: path to radar files\n",
    "    :return: radar rainfall rate geotiff\n",
    "    \"\"\"\n",
    "\n",
    "    radar = radar_object\n",
    "    try:\n",
    "        a = radar.metadata['instrument_name'].decode('utf-8')\n",
    "    except AttributeError:\n",
    "        a = radar.metadata['instrument_name']\n",
    "\n",
    "    var2filter = 'cross_correlation_coefficient'\n",
    "    thres_filter = 0.8\n",
    "    var2plot = 'reflectivity'\n",
    "\n",
    "    min_ix, max_ix, min_iy, max_iy, min_iz, max_iz = get_alt_lon_lat(radar)\n",
    "    shape_xy = (max_ix * 2 / (radar.range['data'][1] - radar.range['data'][0])).astype('int')\n",
    "    shape_z = (max_iz / 500).astype('int')\n",
    "\n",
    "    rain_z = pyart.retrieve.est_rain_rate_z(radar, refl_field=var2plot, rr_field='rain_z')\n",
    "    radar.add_field('rain_z', rain_z)\n",
    "\n",
    "    grid = pyart.map.grid_from_radars((radar,), gatefilters=None,\n",
    "                                      grid_shape=(shape_z + 1, shape_xy + 1, shape_xy + 1),\n",
    "                                      grid_limits=((min_iz, max_iz), (min_ix, max_ix), (min_iy, max_iy)),\n",
    "                                      fields=['rain_z'])\n",
    "\n",
    "    folder_save = './'\n",
    "\n",
    "    if os.path.exists(folder_save):\n",
    "        pass\n",
    "    else:\n",
    "        make_dir(folder_save)\n",
    "\n",
    "    name_save = 'radar_rain_st'\n",
    "    file_save = '{0}/{1}.tif'.format(folder_save, name_save)\n",
    "\n",
    "    pyart.io.write_grid_geotiff(grid, file_save, 'rain_z', warp=True, use_doublequotes=True)\n"
   ]
  },
  {
   "cell_type": "code",
   "execution_count": 5,
   "metadata": {},
   "outputs": [
    {
     "name": "stderr",
     "output_type": "stream",
     "text": [
      "C:\\Users\\ladin\\anaconda3\\envs\\radar_panama\\lib\\site-packages\\pyart\\io\\sigmet.py:131: RuntimeWarning: invalid value encountered in sqrt\n",
      "  sigmet_data, sigmet_metadata = sigmetfile.read_data(full_xhdr=full_xhdr)\n"
     ]
    }
   ],
   "source": [
    "radar = pyart.io.read('./data/CAR190917171051.RAW6KYV')\n",
    "rain_tiff(radar)"
   ]
  },
  {
   "cell_type": "code",
   "execution_count": null,
   "metadata": {},
   "outputs": [],
   "source": []
  },
  {
   "cell_type": "code",
   "execution_count": null,
   "metadata": {},
   "outputs": [],
   "source": []
  }
 ],
 "metadata": {
  "kernelspec": {
   "display_name": "Python 3 (ipykernel)",
   "language": "python",
   "name": "python3"
  },
  "language_info": {
   "codemirror_mode": {
    "name": "ipython",
    "version": 3
   },
   "file_extension": ".py",
   "mimetype": "text/x-python",
   "name": "python",
   "nbconvert_exporter": "python",
   "pygments_lexer": "ipython3",
   "version": "3.8.12"
  }
 },
 "nbformat": 4,
 "nbformat_minor": 2
}
