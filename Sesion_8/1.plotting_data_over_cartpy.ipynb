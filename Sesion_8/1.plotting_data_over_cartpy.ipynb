{
 "cells": [
  {
   "cell_type": "markdown",
   "metadata": {},
   "source": [
    "# Hacer un gráfico sobre un mapa base"
   ]
  },
  {
   "cell_type": "code",
   "execution_count": 1,
   "metadata": {},
   "outputs": [
    {
     "name": "stdout",
     "output_type": "stream",
     "text": [
      "\n",
      "## You are using the Python ARM Radar Toolkit (Py-ART), an open source\n",
      "## library for working with weather radar data. Py-ART is partly\n",
      "## supported by the U.S. Department of Energy as part of the Atmospheric\n",
      "## Radiation Measurement (ARM) Climate Research Facility, an Office of\n",
      "## Science user facility.\n",
      "##\n",
      "## If you use this software to prepare a publication, please cite:\n",
      "##\n",
      "##     JJ Helmus and SM Collis, JORS 2016, doi: 10.5334/jors.119\n",
      "\n"
     ]
    }
   ],
   "source": [
    "import cartopy.crs as ccrs\n",
    "import matplotlib.pyplot as plt\n",
    "import numpy as np\n",
    "import pyart\n",
    "import os"
   ]
  },
  {
   "cell_type": "code",
   "execution_count": 2,
   "metadata": {},
   "outputs": [
    {
     "name": "stderr",
     "output_type": "stream",
     "text": [
      "C:\\ProgramData\\Anaconda3\\lib\\site-packages\\pyart\\io\\sigmet.py:147: RuntimeWarning: invalid value encountered in sqrt\n",
      "  sigmet_data, sigmet_metadata = sigmetfile.read_data(full_xhdr=full_xhdr)\n"
     ]
    }
   ],
   "source": [
    "radar = pyart.io.read('./data/CAR190917171051.RAW6KYV')"
   ]
  },
  {
   "cell_type": "code",
   "execution_count": 4,
   "metadata": {},
   "outputs": [
    {
     "name": "stdout",
     "output_type": "stream",
     "text": [
      "Using matplotlib backend: Qt5Agg\n"
     ]
    }
   ],
   "source": [
    "%matplotlib\n",
    "fig = plt.figure(figsize=[12, 8])\n",
    "display = pyart.graph.RadarMapDisplay(radar)\n",
    "display.plot_ppi_map('reflectivity', sweep=0, resolution='50m',\n",
    "                     vmin=-8, vmax=64,\n",
    "                     projection=ccrs.PlateCarree(), cmap='pyart_NWSRef')\n",
    "plt.show()"
   ]
  },
  {
   "cell_type": "markdown",
   "metadata": {},
   "source": [
    "# Utilicemos ahora cartopy para generar el mapa\n",
    "importamos las librerias necesarias"
   ]
  },
  {
   "cell_type": "code",
   "execution_count": 5,
   "metadata": {},
   "outputs": [],
   "source": [
    "import cartopy.feature as cfeature\n",
    "from cartopy.feature import ShapelyFeature\n",
    "from cartopy.io.shapereader import Reader\n",
    "from cartopy.mpl.gridliner import LONGITUDE_FORMATTER, LATITUDE_FORMATTER\n",
    "from matplotlib import rcParams\n",
    "rcParams['font.family'] = 'monospace'"
   ]
  },
  {
   "cell_type": "code",
   "execution_count": 11,
   "metadata": {},
   "outputs": [],
   "source": [
    "\n",
    "titulo = f\"RADAR CARIMAGUA {radar.time['units'][16:]}\""
   ]
  },
  {
   "cell_type": "code",
   "execution_count": 12,
   "metadata": {},
   "outputs": [
    {
     "data": {
      "text/plain": [
       "{'units': 'seconds since 2019-09-17T17:10:51Z',\n",
       " 'standard_name': 'time',\n",
       " 'long_name': 'time_in_seconds_since_volume_start',\n",
       " 'calendar': 'gregorian',\n",
       " 'comment': 'Coordinate variable for time. Time at the center of each ray, in fractional seconds since the global variable time_coverage_start',\n",
       " 'data': array([23., 23., 23., ..., 99., 99., 99.])}"
      ]
     },
     "execution_count": 12,
     "metadata": {},
     "output_type": "execute_result"
    }
   ],
   "source": [
    "radar.time"
   ]
  },
  {
   "cell_type": "code",
   "execution_count": 19,
   "metadata": {},
   "outputs": [],
   "source": [
    "fig = plt.figure(figsize=(7.5, 6.5))\n",
    "ax = plt.axes(projection=ccrs.PlateCarree(), zorder=1)\n",
    "shp_file = './departamentos/Departamentos.shp'\n",
    "shape_feature = ShapelyFeature(Reader(shp_file).geometries(), \n",
    "                               ccrs.PlateCarree(), facecolor='none', edgecolor='black')\n",
    "ax.add_feature(shape_feature, linewidth=0.5)\n",
    "ax.coastlines(resolution='50m')\n",
    "gl = ax.gridlines(draw_labels=True, rasterized=True)\n",
    "gl.ylabel_style = {'rotation': 0}\n",
    "gl.xlabels_top = False\n",
    "gl.ylabels_right = False\n",
    "gl.xformatter = LONGITUDE_FORMATTER\n",
    "gl.yformatter = LATITUDE_FORMATTER\n",
    "\n",
    "display = pyart.graph.RadarMapDisplay(radar)\n",
    "display.plot_ppi_map('reflectivity', sweep=0, resolution='50m',\n",
    "                     vmin=-8, vmax=64,\n",
    "                     projection=ccrs.PlateCarree(), \n",
    "                     cmap='pyart_NWSRef',\n",
    "                    title=titulo)\n",
    "display.plot_range_ring(radar.range['data'][-1] / 100)\n",
    "plt.show()"
   ]
  },
  {
   "cell_type": "markdown",
   "metadata": {},
   "source": [
    "#  Es Su turno\n",
    "Utilice los datos del radar del tablazo para generar un mapa como el anterior"
   ]
  },
  {
   "cell_type": "code",
   "execution_count": 22,
   "metadata": {},
   "outputs": [
    {
     "name": "stderr",
     "output_type": "stream",
     "text": [
      "C:\\ProgramData\\Anaconda3\\lib\\site-packages\\pyart\\io\\sigmet.py:147: RuntimeWarning: invalid value encountered in sqrt\n",
      "  sigmet_data, sigmet_metadata = sigmetfile.read_data(full_xhdr=full_xhdr)\n"
     ]
    }
   ],
   "source": [
    "radar = pyart.io.read(r'./data/TAB191023200503.RAWD9FF')\n",
    "titulo = f\"RADAR TABLAZO {radar.time['units'][16:]}\""
   ]
  },
  {
   "cell_type": "code",
   "execution_count": 23,
   "metadata": {},
   "outputs": [],
   "source": [
    "fig = plt.figure(figsize=(7.5, 6.5))\n",
    "ax = plt.axes(projection=ccrs.PlateCarree(), zorder=1)\n",
    "shp_file = './departamentos/Departamentos.shp'\n",
    "shape_feature = ShapelyFeature(Reader(shp_file).geometries(), \n",
    "                               ccrs.PlateCarree(), facecolor='none', edgecolor='black')\n",
    "ax.add_feature(shape_feature, linewidth=0.5)\n",
    "ax.coastlines(resolution='50m')\n",
    "gl = ax.gridlines(draw_labels=True, rasterized=True)\n",
    "gl.ylabel_style = {'rotation': 0}\n",
    "gl.xlabels_top = False\n",
    "gl.ylabels_right = False\n",
    "gl.xformatter = LONGITUDE_FORMATTER\n",
    "gl.yformatter = LATITUDE_FORMATTER\n",
    "\n",
    "display = pyart.graph.RadarMapDisplay(radar)\n",
    "display.plot_ppi_map('reflectivity', sweep=0, resolution='50m',\n",
    "                     vmin=-8, vmax=64,\n",
    "                     projection=ccrs.PlateCarree(), \n",
    "                     cmap='pyart_NWSRef',\n",
    "                    title=titulo)\n",
    "display.plot_range_ring(radar.range['data'][-1] / 1000)\n",
    "plt.show()"
   ]
  },
  {
   "cell_type": "code",
   "execution_count": null,
   "metadata": {},
   "outputs": [],
   "source": []
  }
 ],
 "metadata": {
  "kernelspec": {
   "display_name": "Python 3",
   "language": "python",
   "name": "python3"
  },
  "language_info": {
   "codemirror_mode": {
    "name": "ipython",
    "version": 3
   },
   "file_extension": ".py",
   "mimetype": "text/x-python",
   "name": "python",
   "nbconvert_exporter": "python",
   "pygments_lexer": "ipython3",
   "version": "3.7.4"
  }
 },
 "nbformat": 4,
 "nbformat_minor": 2
}
