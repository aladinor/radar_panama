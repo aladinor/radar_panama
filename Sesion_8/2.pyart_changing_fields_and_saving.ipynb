{
 "cells": [
  {
   "cell_type": "markdown",
   "metadata": {},
   "source": [
    "## Py-ART : manipulación de varibales y almacenamiento del objeto radar en un archivo.\n",
    "\n",
    "En esta sección repasaremos los conceptos básicos sobre cómo cambiar los datos dentro de un archivo de radar y guardar un nuevo archivo de radar. Haremos esto creando un nuevo campo que almacene una máscara de reflectividad."
   ]
  },
  {
   "cell_type": "code",
   "execution_count": null,
   "metadata": {},
   "outputs": [],
   "source": [
    "import pyart\n",
    "import numpy as np\n",
    "import os\n",
    "from matplotlib import pyplot as plt\n",
    "\n",
    "%matplotlib inline"
   ]
  },
  {
   "cell_type": "markdown",
   "metadata": {},
   "source": [
    "¡Como antes, cargaremos nuestro archivo de radar de confianza!"
   ]
  },
  {
   "cell_type": "code",
   "execution_count": null,
   "metadata": {},
   "outputs": [],
   "source": [
    "radar = pyart.io.read('./data/TAB191023201504.RAWD9GA')"
   ]
  },
  {
   "cell_type": "markdown",
   "metadata": {},
   "source": [
    "Guardemos el campo de radar en una variable."
   ]
  },
  {
   "cell_type": "code",
   "execution_count": null,
   "metadata": {},
   "outputs": [],
   "source": [
    "ref_field = radar.fields['reflectivity']['data']"
   ]
  },
  {
   "cell_type": "markdown",
   "metadata": {},
   "source": [
    "Para crear una matriz que sea cero cuando la condición sea falsa y una cuando sea verdadera, podemos usar el comando np.ma.where."
   ]
  },
  {
   "cell_type": "code",
   "execution_count": null,
   "metadata": {},
   "outputs": [],
   "source": [
    "ref_gt_0 = np.ma.where(ref_field > 0, 1, 0)\n",
    "print(ref_gt_0)"
   ]
  },
  {
   "cell_type": "markdown",
   "metadata": {},
   "source": [
    "Para crear un nuevo campo, necesitamos crear un diccionario con claves que contengan los datos, el nombre largo, las unidades, el valor de relleno y el nombre estándar."
   ]
  },
  {
   "cell_type": "code",
   "execution_count": null,
   "metadata": {},
   "outputs": [],
   "source": [
    "mask_dict = {'data': ref_gt_0, 'units': '0 = Z < 0, 1 = Z >= 0',\n",
    "             'long_name': 'reflectivity_mask',\n",
    "             '_FillValue': ref_gt_0.fill_value, \n",
    "             'standard_name': 'reflectivity_mask'}"
   ]
  },
  {
   "cell_type": "markdown",
   "metadata": {},
   "source": [
    "¡Agregar este campo al objeto de radar es tan simple como hacer radar.add_field ()!"
   ]
  },
  {
   "cell_type": "code",
   "execution_count": null,
   "metadata": {},
   "outputs": [],
   "source": [
    "radar.add_field('reflectivity_mask', mask_dict, replace_existing=True)"
   ]
  },
  {
   "cell_type": "markdown",
   "metadata": {},
   "source": [
    "¡Ahora podemos trazar el campo usando RadarMapDisplayCartopy!"
   ]
  },
  {
   "cell_type": "code",
   "execution_count": null,
   "metadata": {},
   "outputs": [],
   "source": [
    "plt.figure(figsize=[12, 8])\n",
    "display = pyart.graph.RadarMapDisplay(radar)\n",
    "display.plot_ppi_map('reflectivity_mask', cmap='coolwarm', vmin=0, vmax=1)"
   ]
  },
  {
   "cell_type": "markdown",
   "metadata": {},
   "source": [
    "Como puede ver, ahora hemos localizado todas las regiones donde la reflectividad es mayor a 0 dBZ."
   ]
  },
  {
   "cell_type": "code",
   "execution_count": null,
   "metadata": {},
   "outputs": [],
   "source": [
    "plt.figure(figsize=[12, 8])\n",
    "display.plot_ppi_map('reflectivity', vmin=-10, vmax=60)"
   ]
  },
  {
   "cell_type": "markdown",
   "metadata": {},
   "source": [
    "As you can see, we have now located all of the regions where the reflectivity is greater than 0 dBZ."
   ]
  },
  {
   "cell_type": "code",
   "execution_count": null,
   "metadata": {},
   "outputs": [],
   "source": [
    "pyart.io.write_cfradial('./data/new_radar.nc', radar)"
   ]
  },
  {
   "cell_type": "markdown",
   "metadata": {},
   "source": [
    "Now, if you look in the data folder within the pyart_short_course, you should see new_radar.nc"
   ]
  },
  {
   "cell_type": "markdown",
   "metadata": {},
   "source": [
    "## Ejercicio\n",
    "\n",
    "Cree un campo que sea cero cuando el coeficiente de correlacion (cross_correlation_ratio) sea menor a 0.5 y que sea 1 cuando sea mayor a 0.5"
   ]
  },
  {
   "cell_type": "code",
   "execution_count": null,
   "metadata": {},
   "outputs": [],
   "source": [
    "rhohv = radar.fields['cross_correlation_ratio']['data']"
   ]
  },
  {
   "cell_type": "code",
   "execution_count": null,
   "metadata": {},
   "outputs": [],
   "source": [
    "rhohv_mod = np.ma.where(rhohv > 0.5, 1, 0)\n",
    "mask_rhohv = {'data': rhohv_mod, 'units': '0 = rhohv < 0.5, 1 = rhohv >= 0.5',\n",
    "             'long_name': 'rhohv_mask',\n",
    "             '_FillValue': rhohv_mod.fill_value, \n",
    "             'standard_name': 'rhohv_mask'}"
   ]
  },
  {
   "cell_type": "code",
   "execution_count": null,
   "metadata": {},
   "outputs": [],
   "source": [
    "radar.add_field('rhohv_mask', mask_rhohv, replace_existing=True)"
   ]
  },
  {
   "cell_type": "code",
   "execution_count": null,
   "metadata": {},
   "outputs": [],
   "source": [
    "plt.figure(figsize=[12, 8])\n",
    "display.plot_ppi_map('rhohv_mask', vmin=0, vmax=1)"
   ]
  },
  {
   "cell_type": "code",
   "execution_count": null,
   "metadata": {},
   "outputs": [],
   "source": [
    "%load section_2_answer.py\n"
   ]
  },
  {
   "cell_type": "code",
   "execution_count": null,
   "metadata": {},
   "outputs": [],
   "source": []
  }
 ],
 "metadata": {
  "kernelspec": {
   "display_name": "Python 3 (ipykernel)",
   "language": "python",
   "name": "python3"
  },
  "language_info": {
   "codemirror_mode": {
    "name": "ipython",
    "version": 3
   },
   "file_extension": ".py",
   "mimetype": "text/x-python",
   "name": "python",
   "nbconvert_exporter": "python",
   "pygments_lexer": "ipython3",
   "version": "3.8.12"
  }
 },
 "nbformat": 4,
 "nbformat_minor": 2
}
